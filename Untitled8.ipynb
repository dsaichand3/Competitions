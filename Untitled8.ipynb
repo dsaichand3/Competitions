{
  "nbformat": 4,
  "nbformat_minor": 0,
  "metadata": {
    "colab": {
      "name": "Untitled8.ipynb",
      "version": "0.3.2",
      "provenance": [],
      "include_colab_link": true
    },
    "kernelspec": {
      "name": "python3",
      "display_name": "Python 3"
    },
    "accelerator": "GPU"
  },
  "cells": [
    {
      "cell_type": "markdown",
      "metadata": {
        "id": "view-in-github",
        "colab_type": "text"
      },
      "source": [
        "<a href=\"https://colab.research.google.com/github/dsaichand3/Machine-Learning-Hackathon/blob/master/Untitled8.ipynb\" target=\"_parent\"><img src=\"https://colab.research.google.com/assets/colab-badge.svg\" alt=\"Open In Colab\"/></a>"
      ]
    },
    {
      "cell_type": "code",
      "metadata": {
        "id": "oX0H-oKLct38",
        "colab_type": "code",
        "colab": {
          "base_uri": "https://localhost:8080/",
          "height": 97
        },
        "outputId": "729f1492-165d-4b36-f4df-082c9bceb036"
      },
      "source": [
        "import os\n",
        "import numpy as np \n",
        "import pandas as pd\n",
        "import string\n",
        "from collections import Counter\n",
        "import seaborn as sns\n",
        "sns.set(rc={'figure.figsize':(12,9)})\n",
        "import matplotlib.pyplot as plt\n",
        "\n",
        "from tensorflow.keras.preprocessing.text import Tokenizer\n",
        "from tensorflow.keras.preprocessing.sequence import pad_sequences\n",
        "from tensorflow.keras.layers import Dense, Input, Dropout, Activation, BatchNormalization, CuDNNLSTM, Bidirectional\n",
        "from tensorflow.keras.models import Model\n",
        "from tensorflow.keras import optimizers\n",
        "from tensorflow.keras.callbacks import ModelCheckpoint\n",
        "from keras.utils import np_utils\n",
        "from sklearn.model_selection import train_test_split\n",
        "from sklearn import metrics\n",
        "import re\n",
        "\n",
        "!pip install num2words\n",
        "from num2words import num2words\n"
      ],
      "execution_count": 1,
      "outputs": [
        {
          "output_type": "stream",
          "text": [
            "Using TensorFlow backend.\n"
          ],
          "name": "stderr"
        },
        {
          "output_type": "stream",
          "text": [
            "Requirement already satisfied: num2words in /usr/local/lib/python3.6/dist-packages (0.5.10)\n",
            "Requirement already satisfied: docopt>=0.6.2 in /usr/local/lib/python3.6/dist-packages (from num2words) (0.6.2)\n"
          ],
          "name": "stdout"
        }
      ]
    },
    {
      "cell_type": "code",
      "metadata": {
        "id": "3rGDjeyNAZ4R",
        "colab_type": "code",
        "colab": {}
      },
      "source": [
        "SEQUENCE_LENGTH = 125\n",
        "EMBEDDING_DIM = 300"
      ],
      "execution_count": 0,
      "outputs": []
    },
    {
      "cell_type": "code",
      "metadata": {
        "id": "gh2UolLBdfGv",
        "colab_type": "code",
        "colab": {}
      },
      "source": [
        "train = pd.read_excel('Data_Train.xlsx')"
      ],
      "execution_count": 0,
      "outputs": []
    },
    {
      "cell_type": "code",
      "metadata": {
        "id": "K0NL7LeddrTX",
        "colab_type": "code",
        "colab": {
          "base_uri": "https://localhost:8080/",
          "height": 359
        },
        "outputId": "880a6e27-9423-4ae5-9047-122e20f10bb5"
      },
      "source": [
        "train.head(10)"
      ],
      "execution_count": 4,
      "outputs": [
        {
          "output_type": "execute_result",
          "data": {
            "text/html": [
              "<div>\n",
              "<style scoped>\n",
              "    .dataframe tbody tr th:only-of-type {\n",
              "        vertical-align: middle;\n",
              "    }\n",
              "\n",
              "    .dataframe tbody tr th {\n",
              "        vertical-align: top;\n",
              "    }\n",
              "\n",
              "    .dataframe thead th {\n",
              "        text-align: right;\n",
              "    }\n",
              "</style>\n",
              "<table border=\"1\" class=\"dataframe\">\n",
              "  <thead>\n",
              "    <tr style=\"text-align: right;\">\n",
              "      <th></th>\n",
              "      <th>STORY</th>\n",
              "      <th>SECTION</th>\n",
              "    </tr>\n",
              "  </thead>\n",
              "  <tbody>\n",
              "    <tr>\n",
              "      <th>0</th>\n",
              "      <td>But the most painful was the huge reversal in ...</td>\n",
              "      <td>3</td>\n",
              "    </tr>\n",
              "    <tr>\n",
              "      <th>1</th>\n",
              "      <td>How formidable is the opposition alliance amon...</td>\n",
              "      <td>0</td>\n",
              "    </tr>\n",
              "    <tr>\n",
              "      <th>2</th>\n",
              "      <td>Most Asian currencies were trading lower today...</td>\n",
              "      <td>3</td>\n",
              "    </tr>\n",
              "    <tr>\n",
              "      <th>3</th>\n",
              "      <td>If you want to answer any question, click on ‘...</td>\n",
              "      <td>1</td>\n",
              "    </tr>\n",
              "    <tr>\n",
              "      <th>4</th>\n",
              "      <td>In global markets, gold prices edged up today ...</td>\n",
              "      <td>3</td>\n",
              "    </tr>\n",
              "    <tr>\n",
              "      <th>5</th>\n",
              "      <td>BEIJING: Chinese tech giant Huawei has announc...</td>\n",
              "      <td>1</td>\n",
              "    </tr>\n",
              "    <tr>\n",
              "      <th>6</th>\n",
              "      <td>Mumbai: India Inc's external commercial borrow...</td>\n",
              "      <td>3</td>\n",
              "    </tr>\n",
              "    <tr>\n",
              "      <th>7</th>\n",
              "      <td>On Wednesday, Federal Reserve Chairman Jerome ...</td>\n",
              "      <td>3</td>\n",
              "    </tr>\n",
              "    <tr>\n",
              "      <th>8</th>\n",
              "      <td>What more can you give to the audience? I have...</td>\n",
              "      <td>2</td>\n",
              "    </tr>\n",
              "    <tr>\n",
              "      <th>9</th>\n",
              "      <td>com, Arbaaz Khan spoke about getting back to D...</td>\n",
              "      <td>2</td>\n",
              "    </tr>\n",
              "  </tbody>\n",
              "</table>\n",
              "</div>"
            ],
            "text/plain": [
              "                                               STORY  SECTION\n",
              "0  But the most painful was the huge reversal in ...        3\n",
              "1  How formidable is the opposition alliance amon...        0\n",
              "2  Most Asian currencies were trading lower today...        3\n",
              "3  If you want to answer any question, click on ‘...        1\n",
              "4  In global markets, gold prices edged up today ...        3\n",
              "5  BEIJING: Chinese tech giant Huawei has announc...        1\n",
              "6  Mumbai: India Inc's external commercial borrow...        3\n",
              "7  On Wednesday, Federal Reserve Chairman Jerome ...        3\n",
              "8  What more can you give to the audience? I have...        2\n",
              "9  com, Arbaaz Khan spoke about getting back to D...        2"
            ]
          },
          "metadata": {
            "tags": []
          },
          "execution_count": 4
        }
      ]
    },
    {
      "cell_type": "code",
      "metadata": {
        "id": "L9HQkWModtGh",
        "colab_type": "code",
        "colab": {}
      },
      "source": [
        "contraction_mapping = {'What”s':'what is', 'What\"s':'what is',\"its\":\"it is\",\"What's\":\"what is\", \"'ll\": \"will\", \"n't\": \"not\", \"'re\":\"are\", \"ain't\": \"is not\", \"aren't\": \"are not\",\"can't\": \"cannot\", \"'cause\": \"because\", \"could've\": \"could have\", \"couldn't\": \"could not\", \"didn't\": \"did not\",  \"doesn't\": \"does not\", \"don't\": \"do not\", \"hadn't\": \"had not\", \"hasn't\": \"has not\", \"haven't\": \"have not\", \"he'd\": \"he would\",\"he'll\": \"he will\", \"he's\": \"he is\", \"how'd\": \"how did\", \"how'd'y\": \"how do you\", \"how'll\": \"how will\", \"how's\": \"how is\",  \"I'd\": \"I would\", \"I'd've\": \"I would have\", \"I'll\": \"I will\", \"I'll've\": \"I will have\",\"I'm\": \"I am\", \"I've\": \"I have\", \"i'd\": \"i would\", \"i'd've\": \"i would have\", \"i'll\": \"i will\",  \"i'll've\": \"i will have\",\"i'm\": \"i am\", \"i've\": \"i have\", \"isn't\": \"is not\", \"it'd\": \"it would\", \"it'd've\": \"it would have\", \"it'll\": \"it will\", \"it'll've\": \"it will have\",\"it's\": \"it is\", \"let's\": \"let us\", \"ma'am\": \"madam\", \"mayn't\": \"may not\", \"might've\": \"might have\",\"mightn't\": \"might not\",\"mightn't've\": \"might not have\", \"must've\": \"must have\", \"mustn't\": \"must not\", \"mustn't've\": \"must not have\", \"needn't\": \"need not\", \"needn't've\": \"need not have\",\"o'clock\": \"of the clock\", \"oughtn't\": \"ought not\", \"oughtn't've\": \"ought not have\", \"shan't\": \"shall not\", \"sha'n't\": \"shall not\", \"shan't've\": \"shall not have\", \"she'd\": \"she would\", \"she'd've\": \"she would have\", \"she'll\": \"she will\", \"she'll've\": \"she will have\", \"she's\": \"she is\", \"should've\": \"should have\", \"shouldn't\": \"should not\", \"shouldn't've\": \"should not have\", \"so've\": \"so have\",\"so's\": \"so as\", \"this's\": \"this is\",\"that'd\": \"that would\", \"that'd've\": \"that would have\", \"that's\": \"that is\", \"there'd\": \"there would\", \"there'd've\": \"there would have\", \"there's\": \"there is\", \"here's\": \"here is\",\"they'd\": \"they would\", \"they'd've\": \"they would have\", \"'they're\":\"they are\",\"they'll\": \"they will\", \"they'll've\": \"they will have\", \"they're\": \"they are\", \"they've\": \"they have\", \"to've\": \"to have\", \"wasn't\": \"was not\", \"we'd\": \"we would\", \"we'd've\": \"we would have\", \"we'll\": \"we will\", \"we'll've\": \"we will have\", \"we're\": \"we are\", \"we've\": \"we have\", \"weren't\": \"were not\", \"what'll\": \"what will\", \"what'll've\": \"what will have\", \"what're\": \"what are\",  \"what's\": \"what is\", \"what've\": \"what have\", \"when's\": \"when is\", \"when've\": \"when have\", \"where'd\": \"where did\", \"where's\": \"where is\", \"where've\": \"where have\", \"who'll\": \"who will\", \"who'll've\": \"who will have\", \"who's\": \"who is\", \"who've\": \"who have\", \"why's\": \"why is\", \"why've\": \"why have\", \"will've\": \"will have\", \"won't\": \"will not\", \"won't've\": \"will not have\", \"would've\": \"would have\", \"wouldn't\": \"would not\", \"wouldn't've\": \"would not have\", \"y'all\": \"you all\", \"y'all'd\": \"you all would\",\"y'all'd've\": \"you all would have\",\"y'all're\": \"you all are\",\"y'all've\": \"you all have\",\"you'd\": \"you would\", \"you'd've\": \"you would have\", \"you'll\": \"you will\", \"you'll've\": \"you will have\", \"you're\": \"you are\", \"you've\": \"you have\" }\n",
        "contractions = set(contraction_mapping)\n",
        "\n",
        "def pre_processing(sentence):\n",
        "    \n",
        "    out = sentence.replace('\\n', ' ').replace('\\t', ' ').replace('\\xa0',' ')\\\n",
        "    .replace(\"？\", \"?\").replace(\"…\", \" \").replace(\"é\", \"e\")\n",
        "    \n",
        "    for punct in \"./-'‘_“”#\":\n",
        "        out = out.replace(punct, ' ')\n",
        "    for punct in '&':\n",
        "        out = out.replace(punct, f'{punct} ')\n",
        "    out = out.translate(str.maketrans('', '', string.punctuation))\n",
        "    #out = out.translate(str.maketrans('', '', string.digits))\n",
        "    out = out.lower()\n",
        "\n",
        "    new_sentence = []\n",
        "    for word in out:\n",
        "        if word =='—':\n",
        "            word=\" \"\n",
        "        new_sentence.append(word)\n",
        "    return \"\".join(new_sentence)\n",
        "\n",
        "#Removing the left right and in between empty spaces.\n",
        "def left_right_spaces(sentence):\n",
        "    new_sentence = []\n",
        "    for word in sentence.split(' '):\n",
        "        if word!='':\n",
        "            new_sentence.append(word)\n",
        "    return \" \".join(new_sentence)\n",
        "            \n",
        "#These words are decided after exploring dataset\n",
        "stop_words = [\"the\",\"a\",\"is\",\"to\",\"be\",\"are\",\"what\",\"and\",\"of\",\"in\",\"it\",\"on\",\"for\",\"that\",\"with\",\"has\",\n",
        "              \"as\",\"will\",\"from\",\"by\",\"have\",\"an\",\"at\",\"this\",\"been\",\"their\",\"there\",\"or\",\"also\",\"not\",\"i\",\n",
        "              \"which\",\"his\",\"but\",\"had\"]\n",
        "\n",
        "def own_stop_words(sentence, stop_words = stop_words):\n",
        "    new_sentence = []\n",
        "    for word in sentence.split(' '):\n",
        "        if word not in stop_words:\n",
        "            new_sentence.append(word)\n",
        "    return \" \".join(new_sentence)\n",
        "\n",
        "#Contractions like \"aren't\" are replaced with \"are not\"\n",
        "def known_contractions(sentence):\n",
        "    sentence = sentence.replace(\"’\", \"'\").replace(\"`\", \"'\").replace(\"´\", \"'\")\n",
        "    new_sentence = []\n",
        "    for word in sentence.split(' '):\n",
        "        if word in contractions:\n",
        "            new_sentence.append(contraction_mapping[word])\n",
        "        else:\n",
        "            new_sentence.append(word)\n",
        "    return \" \".join(new_sentence)\n",
        "\n",
        "#url's have been replaced with url token\n",
        "def check_urls(sentence):\n",
        "    flag=0\n",
        "    out = sentence\n",
        "    for word in sentence.split(' '):\n",
        "        if len(word)>3:\n",
        "            url = re.findall('((ftp|http|https):\\/\\/)?(www.)?(?!.*(ftp|http|https|www.))[a-zA-Z0-9_-]+(\\.[a-zA-Z]+)+\\\n",
        "            ((\\/)[\\w#]+)*(\\/\\w+\\?[a-zA-Z0-9_]+=\\w+(&[a-zA-Z0-9_]+=\\w+)*)?$', word)\n",
        "            if len(url)>0:\n",
        "                out = out.replace(word, ' url ')\n",
        "                flag=1\n",
        "    if flag==1:\n",
        "        return out\n",
        "    return sentence\n",
        "\n",
        "#Words like india's economy, america's economy are replaced with just india economy, america economy etc. \n",
        "def smart_words(sentence):\n",
        "    new_sentence = []\n",
        "    for word in sentence.split(' '):\n",
        "        if word==\"'s\":\n",
        "            word=\"\"\n",
        "        new_sentence.append(re.sub('[\\w]+\\s*[\\’\\´\\'\\”\\’\\\"\\”]\\s*[s]',word[:-2], word))            \n",
        "    return \" \".join(new_sentence)\n",
        "\n",
        "#Some common country names are replaced with a common word to reduce vocabulary.\n",
        "america_names = [\"USA\",\"U.S\",\"U.S.A\",\"U.S.\",\"usa\",\"US\",\"U.S,\",\"U.S.A,\",\"U.S.\",\"usa,\",\"US,\",\"US?\",\"U.S?\",\"U.S.A?\",\"U.S.?\",\"usa?\",\"U.S.A?\"]\n",
        "uk = [\"U.K\",\"U.K?\",\"U.K,\",\"U.K.\"]\n",
        "america_names = set(america_names)\n",
        "uk = set(uk)\n",
        "def countries(sentence):\n",
        "    new_sentence = []\n",
        "    for word in sentence.split(' '):\n",
        "        if word in america_names:\n",
        "            new_sentence.append('america')\n",
        "        elif word in uk:\n",
        "            new_sentence.append('united kingdom')\n",
        "        else:\n",
        "            new_sentence.append(word)\n",
        "    return \" \".join(new_sentence)\n",
        "\n",
        "\n",
        "#Symbols are replaced with the textual information to retain important information.\n",
        "def replace_symbols(sentence):\n",
        "    sentence = sentence.replace(\"%\", \" percent \").replace(\"₹\", \" rupee \").replace(\"$\", \" dollar \")\\\n",
        "    .replace(\"€\", \" euro \").replace(\"?\",'').replace(\"INR\",\" rupee \").replace(\"Rs.\",\" rupee \").replace(\"Rs\",\" rupee \")\n",
        "    \n",
        "    return sentence\n",
        "\n",
        "#Numbers like 100k is replaced with 100 thousand, 21yrs is replaced with 21 years, 1990's with 1990 and so on.\n",
        "def preprocessing_numbers(row):\n",
        "    row = re.sub('(?<=[0-9])\\,(?=[0-9])', \"\", row) #removing ,(comma) between the numbers\n",
        "    new_sentence = []\n",
        "    for word in row.split(' '):\n",
        "        match = re.match(r\"(^[0-9]+)(\\'*\\’*k{1}$)\", word)\n",
        "        if match:\n",
        "            items = match.groups()\n",
        "            new_sentence.append(items[0])\n",
        "            new_sentence.append('thousand')\n",
        "        else:\n",
        "            new_sentence.append(word)\n",
        "            \n",
        "    sentence = \" \".join(new_sentence)\n",
        "    new_sentence = []\n",
        "    for word in sentence.split(' '):\n",
        "        match = re.match(r\"(^[0-9]+)(\\'*\\’*y{1}r?s?$)\", word)\n",
        "        if match:\n",
        "            items = match.groups()\n",
        "            new_sentence.append(items[0])\n",
        "            new_sentence.append('year')\n",
        "        else:\n",
        "            new_sentence.append(word)\n",
        "\n",
        "    sentence = \" \".join(new_sentence)\n",
        "    new_sentence = []\n",
        "    for word in sentence.split(' '):\n",
        "        match = re.match(r\"(^[0-9]+)(\\'*\\’*s{1}$)\", word)\n",
        "        if match:\n",
        "            items = match.groups()\n",
        "            new_sentence.append(items[0])\n",
        "        else:\n",
        "            new_sentence.append(word)\n",
        "\n",
        "    sentence = \" \".join(new_sentence)\n",
        "    new_sentence = []\n",
        "    for word in sentence.split(' '):\n",
        "        match = re.match(r\"([0-9]+)([a-zA-Z]+)\", word)\n",
        "        if match:\n",
        "            items = match.groups()\n",
        "            new_sentence.append(items[0])\n",
        "            new_sentence.append(items[1])\n",
        "        else:\n",
        "            new_sentence.append(word)\n",
        "    return \" \".join(new_sentence)\n",
        "\n",
        "#Numbers are replaced with textual information to retain the value of sentence.\n",
        "def num_to_text(sentence):\n",
        "    sentence = sentence.replace(\"%\", \" percent \").replace(\"₹\", \" rupee \").replace(\"$\", \" dollar \")\\\n",
        "    .replace(\"€\", \" euro\").replace(\"?\",'').replace(\"INR\",\" rupee \").replace(\"Rs.\",\" rupee \")\n",
        "    new_sentence = []\n",
        "    for word in sentence.split(' '):\n",
        "        try:\n",
        "            word = int(word)\n",
        "            if word<=1000 and word>=0:\n",
        "                text = num2words(word)\n",
        "                new_sentence.append(text)\n",
        "            else:\n",
        "                new_sentence.append(str(word))\n",
        "        except:\n",
        "            new_sentence.append(str(word))\n",
        "    return \" \".join(new_sentence)\n",
        "\n",
        "def handling_decimal_numbers(sentence):\n",
        "    new_sentence = []\n",
        "    for word in sentence.split(' '):\n",
        "        match = re.match(r\"([0-9]+)(\\.)([0-9]+)\", word)\n",
        "        if match:\n",
        "            items = match.groups()\n",
        "            #new_sentence.append(items[0])\n",
        "            #new_sentence.append('point')\n",
        "            #new_sentence.append(items[2])\n",
        "            new_sentence.append(\"\")\n",
        "        else:\n",
        "            new_sentence.append(word)\n",
        "    return \" \".join(new_sentence)"
      ],
      "execution_count": 0,
      "outputs": []
    },
    {
      "cell_type": "code",
      "metadata": {
        "id": "UbuTOv1ngG_a",
        "colab_type": "code",
        "colab": {}
      },
      "source": [
        "train['STORY'] = train['STORY'].apply(countries)\n",
        "train['STORY'] = train['STORY'].apply(countries)\n",
        "\n",
        "train['STORY'] = train['STORY'].apply(known_contractions)\n",
        "train['STORY'] = train['STORY'].apply(known_contractions)\n",
        "\n",
        "train['STORY'] = train['STORY'].apply(smart_words)\n",
        "train['STORY'] = train['STORY'].apply(smart_words)\n",
        "\n",
        "train['STORY'] = train['STORY'].apply(replace_symbols)\n",
        "train['STORY'] = train['STORY'].apply(replace_symbols)\n",
        "\n",
        "train['STORY'] = train['STORY'].apply(preprocessing_numbers)\n",
        "train['STORY'] = train['STORY'].apply(preprocessing_numbers)\n",
        "\n",
        "train['STORY'] = train['STORY'].apply(num_to_text)\n",
        "train['STORY'] = train['STORY'].apply(num_to_text)\n",
        "\n",
        "train['STORY'] = train['STORY'].apply(handling_decimal_numbers)\n",
        "train['STORY'] = train['STORY'].apply(handling_decimal_numbers)\n",
        "\n",
        "train['STORY'] = train['STORY'].apply(pre_processing)\n",
        "train['STORY'] = train['STORY'].apply(pre_processing)\n",
        "\n",
        "train['STORY'] = train['STORY'].apply(own_stop_words)\n",
        "train['STORY'] = train['STORY'].apply(own_stop_words)\n",
        "\n",
        "train['STORY'] = train['STORY'].apply(left_right_spaces)\n",
        "train['STORY'] = train['STORY'].apply(left_right_spaces)\n",
        "\n",
        "train['STORY'] = train['STORY'].apply(preprocessing_numbers)\n",
        "train['STORY'] = train['STORY'].apply(preprocessing_numbers)\n",
        "\n",
        "train['STORY'] = train['STORY'].apply(num_to_text)\n",
        "train['STORY'] = train['STORY'].apply(num_to_text)"
      ],
      "execution_count": 0,
      "outputs": []
    },
    {
      "cell_type": "code",
      "metadata": {
        "id": "5d5HxjtETLIn",
        "colab_type": "code",
        "colab": {}
      },
      "source": [
        "class_1 = train[train['SECTION']==0]\n",
        "class_2 = train[train['SECTION']==1]\n",
        "class_3 = train[train['SECTION']==2]\n",
        "class_4 = train[train['SECTION']==3]"
      ],
      "execution_count": 0,
      "outputs": []
    },
    {
      "cell_type": "code",
      "metadata": {
        "id": "rPR1xMS4TbUq",
        "colab_type": "code",
        "colab": {
          "base_uri": "https://localhost:8080/",
          "height": 791
        },
        "outputId": "b7d1a75e-0597-4d2e-d262-34303c6c5ac4"
      },
      "source": [
        "def n_grams(count, dataset, name):\n",
        " \n",
        "    result = dataset['STORY']\n",
        "    n_grams_1 = []\n",
        "    for row in result:\n",
        "        total_words = row.split(' ')\n",
        "        for i in range(0,len(total_words)-(count-1)):\n",
        "            n_grams_1.append(' '.join(total_words[i:count+i]))\n",
        "    n_grams_1 = Counter(n_grams_1)\n",
        "    df = pd.DataFrame(list(n_grams_1.items()), columns=['words', 'count'])\n",
        "    df.sort_values(by=['count'], ascending=False, inplace=True)\n",
        "    \n",
        "    fig = sns.barplot(x = df[\"words\"][:20], y= df[\"count\"][:20])\n",
        "    plt.xticks(rotation=90)\n",
        "    plt.title(name)\n",
        "    return fig\n",
        "\n",
        "for k in range(1,2):\n",
        "    fig = plt.figure(figsize=(12, 11))\n",
        "    for i in range(1, 2):\n",
        "        plt.subplot(2, 2, i)\n",
        "        print(n_grams(k, class_1, \"class_1\"))\n",
        "        plt.subplot(2, 2, i+1)\n",
        "        print(n_grams(k, class_2, \"class_2\"))\n",
        "        plt.subplot(2, 2, i+2)\n",
        "        print(n_grams(k, class_3, \"class_3\"))\n",
        "        plt.subplot(2, 2, i+3)\n",
        "        print(n_grams(k, class_4, \"class_4\"))"
      ],
      "execution_count": 8,
      "outputs": [
        {
          "output_type": "stream",
          "text": [
            "AxesSubplot(0.125,0.536818;0.352273x0.343182)\n",
            "AxesSubplot(0.547727,0.536818;0.352273x0.343182)\n",
            "AxesSubplot(0.125,0.125;0.352273x0.343182)\n",
            "AxesSubplot(0.547727,0.125;0.352273x0.343182)\n"
          ],
          "name": "stdout"
        },
        {
          "output_type": "display_data",
          "data": {
            "image/png": "[encoded data removed]",
            "text/plain": [
              "<Figure size 864x792 with 4 Axes>"
            ]
          },
          "metadata": {
            "tags": []
          }
        }
      ]
    },
    {
      "cell_type": "code",
      "metadata": {
        "id": "Jj7BOvLDdT5P",
        "colab_type": "code",
        "colab": {
          "base_uri": "https://localhost:8080/",
          "height": 728
        },
        "outputId": "ed0966e1-cddc-461e-cbd3-670789fca487"
      },
      "source": [
        "n_grams(3, class_4,\"class_4\")"
      ],
      "execution_count": 9,
      "outputs": [
        {
          "output_type": "execute_result",
          "data": {
            "text/plain": [
              "<matplotlib.axes._subplots.AxesSubplot at 0x7ffa91930b00>"
            ]
          },
          "metadata": {
            "tags": []
          },
          "execution_count": 9
        },
        {
          "output_type": "display_data",
          "data": {
            "image/png": "[encoded data removed]",
            "text/plain": [
              "<Figure size 864x648 with 1 Axes>"
            ]
          },
          "metadata": {
            "tags": []
          }
        }
      ]
    },
    {
      "cell_type": "code",
      "metadata": {
        "id": "K7XiKG1u0L7q",
        "colab_type": "code",
        "colab": {}
      },
      "source": [
        "words_1 = []\n",
        "for doc in train['STORY']:\n",
        "    for word in doc.split(' '):\n",
        "        if word!='':\n",
        "            words_1.append(word)\n",
        "\n",
        "words_1_count = Counter(words_1)\n",
        "\n",
        "total_words = words_1_count"
      ],
      "execution_count": 0,
      "outputs": []
    },
    {
      "cell_type": "code",
      "metadata": {
        "id": "C6WfHQNkyUVE",
        "colab_type": "code",
        "colab": {
          "base_uri": "https://localhost:8080/",
          "height": 51
        },
        "outputId": "ed2163fe-324a-45f4-ab42-1d4c1ded53f1"
      },
      "source": [
        "\"\"\"!wget http://nlp.stanford.edu/data/glove.840B.300d.zip\n",
        "\n",
        "!unzip glove*.zip\n",
        "\n",
        "!rm glove.840B.300d.zip\n",
        "\n",
        "\"\"\"\n",
        "total_words = set(total_words)\n",
        "print('Indexing word vectors.')\n",
        "\n",
        "embeddings_index = {}\n",
        "f = open('glove.840B.300d.txt', encoding='utf-8')\n",
        "\n",
        "for line in f:\n",
        "    values = line.split()\n",
        "    word = values[0]\n",
        "    if word in total_words:\n",
        "        coefs = np.asarray(values[-300:], dtype='float32')\n",
        "        embeddings_index[word] = coefs\n",
        "    if len(embeddings_index)==len(total_words):\n",
        "        print(\"done\")\n",
        "f.close()\n",
        "print('Found %s word vectors.' % len(embeddings_index))\n",
        "\n",
        "#!rm glove.840B.300d.txt\n",
        "#del total_words"
      ],
      "execution_count": 11,
      "outputs": [
        {
          "output_type": "stream",
          "text": [
            "Indexing word vectors.\n",
            "Found 26959 word vectors.\n"
          ],
          "name": "stdout"
        }
      ]
    },
    {
      "cell_type": "code",
      "metadata": {
        "id": "_8Dx1_Byz9lR",
        "colab_type": "code",
        "colab": {
          "base_uri": "https://localhost:8080/",
          "height": 85
        },
        "outputId": "c20d65be-f48c-4634-8e91-a7af588995a2"
      },
      "source": [
        "print(\"Total number of words (vocabulary size): \", len(total_words))\n",
        "print(\"Embeddings found for the words: \", len(embeddings_index))\n",
        "print(\"Percentage of words having embeddings: \", (len(embeddings_index)/len(total_words))*100)\n",
        "print(\"Percentage of words not having embeddings: \", 100 - (len(embeddings_index)/len(total_words))*100)"
      ],
      "execution_count": 12,
      "outputs": [
        {
          "output_type": "stream",
          "text": [
            "Total number of words (vocabulary size):  32649\n",
            "Embeddings found for the words:  26959\n",
            "Percentage of words having embeddings:  82.57220741829765\n",
            "Percentage of words not having embeddings:  17.42779258170235\n"
          ],
          "name": "stdout"
        }
      ]
    },
    {
      "cell_type": "code",
      "metadata": {
        "id": "gvDjiSRujIBH",
        "colab_type": "code",
        "colab": {
          "base_uri": "https://localhost:8080/",
          "height": 563
        },
        "outputId": "b305b491-f253-4ba8-ee6a-f228d52c15c2"
      },
      "source": [
        "values = []\n",
        "for row in train['STORY']:\n",
        "    values.append(len(row.split(' ')))\n",
        "values = np.array(values)\n",
        "\n",
        "sns.distplot(values, kde = False, bins = 70)"
      ],
      "execution_count": 13,
      "outputs": [
        {
          "output_type": "execute_result",
          "data": {
            "text/plain": [
              "<matplotlib.axes._subplots.AxesSubplot at 0x7ffa8b6380b8>"
            ]
          },
          "metadata": {
            "tags": []
          },
          "execution_count": 13
        },
        {
          "output_type": "display_data",
          "data": {
            "image/png": "[encoded data removed]",
            "text/plain": [
              "<Figure size 864x648 with 1 Axes>"
            ]
          },
          "metadata": {
            "tags": []
          }
        }
      ]
    },
    {
      "cell_type": "code",
      "metadata": {
        "id": "6mMDr56n0Vcx",
        "colab_type": "code",
        "colab": {}
      },
      "source": [
        "use_words = []\n",
        "for word in total_words:\n",
        "    if word not in embeddings_index:\n",
        "        use_words.append(word)"
      ],
      "execution_count": 0,
      "outputs": []
    },
    {
      "cell_type": "code",
      "metadata": {
        "id": "8Q76skVu2TgG",
        "colab_type": "code",
        "colab": {}
      },
      "source": [
        "train = train.sample(frac=1)\n",
        "target = train['SECTION']\n",
        "train.drop(['SECTION'], axis = 1, inplace = True)"
      ],
      "execution_count": 0,
      "outputs": []
    },
    {
      "cell_type": "code",
      "metadata": {
        "id": "ub_yB_3f868S",
        "colab_type": "code",
        "colab": {}
      },
      "source": [
        "X_train, X_val, y_train, y_val = train_test_split(train, target, stratify = target, test_size=0.2)"
      ],
      "execution_count": 0,
      "outputs": []
    },
    {
      "cell_type": "code",
      "metadata": {
        "id": "Nb3VcEIn9FVx",
        "colab_type": "code",
        "colab": {}
      },
      "source": [
        "def embeddings(sentence):\n",
        "    new_sentence = []\n",
        "    for word in sentence.split(' '):\n",
        "        if word in embeddings_index:\n",
        "            new_sentence.append(embeddings_index[word])\n",
        "        else:\n",
        "            new_sentence.append(np.zeros(EMBEDDING_DIM))\n",
        "    return new_sentence"
      ],
      "execution_count": 0,
      "outputs": []
    },
    {
      "cell_type": "code",
      "metadata": {
        "id": "8Wjf2g_49SDG",
        "colab_type": "code",
        "colab": {
          "base_uri": "https://localhost:8080/",
          "height": 425
        },
        "outputId": "1c14f07e-9282-4d21-b45c-776cb8b07a07"
      },
      "source": [
        "sequence_1_input = Input(shape = (SEQUENCE_LENGTH, EMBEDDING_DIM))\n",
        "x1 = Bidirectional(CuDNNLSTM(256, return_sequences = True))(sequence_1_input)\n",
        "x1 = Dropout(0.4)(x1)\n",
        "x1 = Bidirectional(CuDNNLSTM(256))(x1)\n",
        "\n",
        "merged = BatchNormalization()(x1)\n",
        "merged = Dense(200, activation='relu')(merged)\n",
        "merged = Dropout(0.4)(merged)\n",
        "\n",
        "merged = BatchNormalization()(x1)\n",
        "merged = Dense(100, activation='relu')(merged)\n",
        "merged = Dropout(0.4)(merged)\n",
        "\n",
        "preds = Dense(4, activation='softmax')(merged)\n",
        "\n",
        "model = Model(inputs= sequence_1_input, outputs=preds)\n",
        "\n",
        "model.compile(loss='sparse_categorical_crossentropy', optimizer = 'adam')\n",
        "model.summary()"
      ],
      "execution_count": 35,
      "outputs": [
        {
          "output_type": "stream",
          "text": [
            "Model: \"model_3\"\n",
            "_________________________________________________________________\n",
            "Layer (type)                 Output Shape              Param #   \n",
            "=================================================================\n",
            "input_4 (InputLayer)         [(None, 125, 300)]        0         \n",
            "_________________________________________________________________\n",
            "bidirectional_6 (Bidirection (None, 125, 512)          1142784   \n",
            "_________________________________________________________________\n",
            "dropout_9 (Dropout)          (None, 125, 512)          0         \n",
            "_________________________________________________________________\n",
            "bidirectional_7 (Bidirection (None, 512)               1576960   \n",
            "_________________________________________________________________\n",
            "batch_normalization_7 (Batch (None, 512)               2048      \n",
            "_________________________________________________________________\n",
            "dense_10 (Dense)             (None, 100)               51300     \n",
            "_________________________________________________________________\n",
            "dropout_11 (Dropout)         (None, 100)               0         \n",
            "_________________________________________________________________\n",
            "dense_11 (Dense)             (None, 4)                 404       \n",
            "=================================================================\n",
            "Total params: 2,773,496\n",
            "Trainable params: 2,772,472\n",
            "Non-trainable params: 1,024\n",
            "_________________________________________________________________\n"
          ],
          "name": "stdout"
        }
      ]
    },
    {
      "cell_type": "code",
      "metadata": {
        "id": "AUA2AQuF9x8A",
        "colab_type": "code",
        "colab": {
          "base_uri": "https://localhost:8080/",
          "height": 136
        },
        "outputId": "e8adecfc-d3f3-4c8b-9f2e-99c15d9cc4fa"
      },
      "source": [
        "final_epochs = 50\n",
        "\n",
        "checkpoint = ModelCheckpoint('saved_model.hdf5', monitor='val_loss', verbose=1, save_weights_only=True, save_best_only=True, mode='min')\n",
        "callbacks_list = [checkpoint]\n",
        "\n",
        "\n",
        "data1 = X_train['STORY']\n",
        "data1 = data1.apply(embeddings)\n",
        "\n",
        "data1 = pad_sequences(data1, maxlen=SEQUENCE_LENGTH, padding = 'pre', dtype=\"float32\")\n",
        "\n",
        "val1 = X_val['STORY']\n",
        "val1 = val1.apply(embeddings)\n",
        "\n",
        "val1 = pad_sequences(val1, maxlen=SEQUENCE_LENGTH, padding = 'pre', dtype=\"float32\")\n",
        "\n",
        "labels_train = np.array(y_train)\n",
        "labels_val = np.array(y_val)\n",
        "\n",
        "trained = model.fit(data1, labels_train,\n",
        "            validation_data = (val1, labels_val), epochs = final_epochs,\n",
        "            batch_size = 512, callbacks = callbacks_list)\n"
      ],
      "execution_count": 0,
      "outputs": [
        {
          "output_type": "stream",
          "text": [
            "Train on 6102 samples, validate on 1526 samples\n",
            "Epoch 1/50\n",
            "5632/6102 [==========================>...] - ETA: 0s - loss: 0.5244\n",
            "Epoch 00001: val_loss improved from inf to 0.41112, saving model to saved_model.hdf5\n",
            "6102/6102 [==============================] - 12s 2ms/sample - loss: 0.4967 - val_loss: 0.4111\n",
            "Epoch 2/50\n",
            "5632/6102 [==========================>...] - ETA: 0s - loss: 0.1725"
          ],
          "name": "stdout"
        }
      ]
    },
    {
      "cell_type": "code",
      "metadata": {
        "id": "O1Gc0cB3vo7f",
        "colab_type": "code",
        "colab": {}
      },
      "source": [
        "plot.plot(trained.history['acc'])\n",
        "plot.plot(trained.history['val_acc'])\n",
        "plot.title('Model accuracy')\n",
        "plot.ylabel('Accuracy')\n",
        "plot.xlabel('Epoch')\n",
        "plot.legend(['Train', 'Test'], loc='upper left')\n",
        "plot.show()\n",
        "\n",
        "plot.plot(trained.history['loss'])\n",
        "plot.plot(trained.history['val_loss'])\n",
        "plot.title('Model loss')\n",
        "plot.ylabel('Loss')\n",
        "plot.xlabel('Epoch')\n",
        "plot.legend(['Train', 'Test'], loc='upper left')\n",
        "plot.show()"
      ],
      "execution_count": 0,
      "outputs": []
    },
    {
      "cell_type": "code",
      "metadata": {
        "id": "KtuDsyQE-xsf",
        "colab_type": "code",
        "colab": {}
      },
      "source": [
        "try:\n",
        "    del data1\n",
        "    del val1\n",
        "    del X_val\n",
        "    del y_val\n",
        "    del X_train\n",
        "    del y_train\n",
        "    del model\n",
        "    import gc\n",
        "    gc.collect()\n",
        "except:\n",
        "    pass"
      ],
      "execution_count": 0,
      "outputs": []
    },
    {
      "cell_type": "code",
      "metadata": {
        "id": "zunH9e8ylB7k",
        "colab_type": "code",
        "colab": {}
      },
      "source": [
        ""
      ],
      "execution_count": 0,
      "outputs": []
    }
  ]
}