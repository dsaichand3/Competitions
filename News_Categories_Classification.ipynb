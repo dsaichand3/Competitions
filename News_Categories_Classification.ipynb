{
  "nbformat": 4,
  "nbformat_minor": 0,
  "metadata": {
    "colab": {
      "name": "News Categories Classification.ipynb",
      "version": "0.3.2",
      "provenance": [],
      "include_colab_link": true
    },
    "kernelspec": {
      "name": "python3",
      "display_name": "Python 3"
    },
    "accelerator": "GPU"
  },
  "cells": [
    {
      "cell_type": "markdown",
      "metadata": {
        "id": "view-in-github",
        "colab_type": "text"
      },
      "source": [
        "<a href=\"https://colab.research.google.com/github/dsaichand3/Competitions/blob/master/News_Categories_Classification.ipynb\" target=\"_parent\"><img src=\"https://colab.research.google.com/assets/colab-badge.svg\" alt=\"Open In Colab\"/></a>"
      ]
    },
    {
      "cell_type": "code",
      "metadata": {
        "id": "oX0H-oKLct38",
        "colab_type": "code",
        "outputId": "9c6b3e85-6f34-4600-d588-0aa432a4340c",
        "colab": {
          "base_uri": "https://localhost:8080/",
          "height": 97
        }
      },
      "source": [
        "import os\n",
        "import numpy as np \n",
        "import pandas as pd\n",
        "import string\n",
        "from collections import Counter\n",
        "import seaborn as sns\n",
        "sns.set(rc={'figure.figsize':(12,9)})\n",
        "import matplotlib.pyplot as plot\n",
        "\n",
        "from tensorflow.keras.preprocessing.text import Tokenizer\n",
        "from tensorflow.keras.preprocessing.sequence import pad_sequences\n",
        "from tensorflow.keras.layers import Dense, Input, Dropout, Activation, BatchNormalization, CuDNNLSTM, Bidirectional\n",
        "from tensorflow.keras.models import Model\n",
        "from tensorflow.keras import optimizers\n",
        "from tensorflow.keras.callbacks import ModelCheckpoint\n",
        "from keras.utils import np_utils\n",
        "from sklearn.model_selection import train_test_split\n",
        "from sklearn import metrics\n",
        "import re\n",
        "\n",
        "!pip install num2words\n",
        "from num2words import num2words\n"
      ],
      "execution_count": 1,
      "outputs": [
        {
          "output_type": "stream",
          "text": [
            "Using TensorFlow backend.\n"
          ],
          "name": "stderr"
        },
        {
          "output_type": "stream",
          "text": [
            "Requirement already satisfied: num2words in /usr/local/lib/python3.6/dist-packages (0.5.10)\n",
            "Requirement already satisfied: docopt>=0.6.2 in /usr/local/lib/python3.6/dist-packages (from num2words) (0.6.2)\n"
          ],
          "name": "stdout"
        }
      ]
    },
    {
      "cell_type": "code",
      "metadata": {
        "id": "3rGDjeyNAZ4R",
        "colab_type": "code",
        "colab": {}
      },
      "source": [
        "SEQUENCE_LENGTH = 125\n",
        "EMBEDDING_DIM = 300"
      ],
      "execution_count": 0,
      "outputs": []
    },
    {
      "cell_type": "code",
      "metadata": {
        "id": "gh2UolLBdfGv",
        "colab_type": "code",
        "colab": {}
      },
      "source": [
        "train = pd.read_excel('Data_Train.xlsx')"
      ],
      "execution_count": 0,
      "outputs": []
    },
    {
      "cell_type": "code",
      "metadata": {
        "id": "K0NL7LeddrTX",
        "colab_type": "code",
        "outputId": "38f0b68b-e6a3-4414-f018-77aff5311e9d",
        "colab": {
          "base_uri": "https://localhost:8080/"
        }
      },
      "source": [
        "train.head(10)"
      ],
      "execution_count": 4,
      "outputs": [
        {
          "output_type": "execute_result",
          "data": {
            "text/html": [
              "<div>\n",
              "<style scoped>\n",
              "    .dataframe tbody tr th:only-of-type {\n",
              "        vertical-align: middle;\n",
              "    }\n",
              "\n",
              "    .dataframe tbody tr th {\n",
              "        vertical-align: top;\n",
              "    }\n",
              "\n",
              "    .dataframe thead th {\n",
              "        text-align: right;\n",
              "    }\n",
              "</style>\n",
              "<table border=\"1\" class=\"dataframe\">\n",
              "  <thead>\n",
              "    <tr style=\"text-align: right;\">\n",
              "      <th></th>\n",
              "      <th>STORY</th>\n",
              "      <th>SECTION</th>\n",
              "    </tr>\n",
              "  </thead>\n",
              "  <tbody>\n",
              "    <tr>\n",
              "      <th>0</th>\n",
              "      <td>But the most painful was the huge reversal in ...</td>\n",
              "      <td>3</td>\n",
              "    </tr>\n",
              "    <tr>\n",
              "      <th>1</th>\n",
              "      <td>How formidable is the opposition alliance amon...</td>\n",
              "      <td>0</td>\n",
              "    </tr>\n",
              "    <tr>\n",
              "      <th>2</th>\n",
              "      <td>Most Asian currencies were trading lower today...</td>\n",
              "      <td>3</td>\n",
              "    </tr>\n",
              "    <tr>\n",
              "      <th>3</th>\n",
              "      <td>If you want to answer any question, click on ‘...</td>\n",
              "      <td>1</td>\n",
              "    </tr>\n",
              "    <tr>\n",
              "      <th>4</th>\n",
              "      <td>In global markets, gold prices edged up today ...</td>\n",
              "      <td>3</td>\n",
              "    </tr>\n",
              "    <tr>\n",
              "      <th>5</th>\n",
              "      <td>BEIJING: Chinese tech giant Huawei has announc...</td>\n",
              "      <td>1</td>\n",
              "    </tr>\n",
              "    <tr>\n",
              "      <th>6</th>\n",
              "      <td>Mumbai: India Inc's external commercial borrow...</td>\n",
              "      <td>3</td>\n",
              "    </tr>\n",
              "    <tr>\n",
              "      <th>7</th>\n",
              "      <td>On Wednesday, Federal Reserve Chairman Jerome ...</td>\n",
              "      <td>3</td>\n",
              "    </tr>\n",
              "    <tr>\n",
              "      <th>8</th>\n",
              "      <td>What more can you give to the audience? I have...</td>\n",
              "      <td>2</td>\n",
              "    </tr>\n",
              "    <tr>\n",
              "      <th>9</th>\n",
              "      <td>com, Arbaaz Khan spoke about getting back to D...</td>\n",
              "      <td>2</td>\n",
              "    </tr>\n",
              "  </tbody>\n",
              "</table>\n",
              "</div>"
            ],
            "text/plain": [
              "                                               STORY  SECTION\n",
              "0  But the most painful was the huge reversal in ...        3\n",
              "1  How formidable is the opposition alliance amon...        0\n",
              "2  Most Asian currencies were trading lower today...        3\n",
              "3  If you want to answer any question, click on ‘...        1\n",
              "4  In global markets, gold prices edged up today ...        3\n",
              "5  BEIJING: Chinese tech giant Huawei has announc...        1\n",
              "6  Mumbai: India Inc's external commercial borrow...        3\n",
              "7  On Wednesday, Federal Reserve Chairman Jerome ...        3\n",
              "8  What more can you give to the audience? I have...        2\n",
              "9  com, Arbaaz Khan spoke about getting back to D...        2"
            ]
          },
          "metadata": {
            "tags": []
          },
          "execution_count": 4
        }
      ]
    },
    {
      "cell_type": "code",
      "metadata": {
        "id": "L9HQkWModtGh",
        "colab_type": "code",
        "colab": {}
      },
      "source": [
        "contraction_mapping = {'What”s':'what is', 'What\"s':'what is',\"its\":\"it is\",\"What's\":\"what is\", \"'ll\": \"will\", \"n't\": \"not\", \"'re\":\"are\", \"ain't\": \"is not\", \"aren't\": \"are not\",\"can't\": \"cannot\", \"'cause\": \"because\", \"could've\": \"could have\", \"couldn't\": \"could not\", \"didn't\": \"did not\",  \"doesn't\": \"does not\", \"don't\": \"do not\", \"hadn't\": \"had not\", \"hasn't\": \"has not\", \"haven't\": \"have not\", \"he'd\": \"he would\",\"he'll\": \"he will\", \"he's\": \"he is\", \"how'd\": \"how did\", \"how'd'y\": \"how do you\", \"how'll\": \"how will\", \"how's\": \"how is\",  \"I'd\": \"I would\", \"I'd've\": \"I would have\", \"I'll\": \"I will\", \"I'll've\": \"I will have\",\"I'm\": \"I am\", \"I've\": \"I have\", \"i'd\": \"i would\", \"i'd've\": \"i would have\", \"i'll\": \"i will\",  \"i'll've\": \"i will have\",\"i'm\": \"i am\", \"i've\": \"i have\", \"isn't\": \"is not\", \"it'd\": \"it would\", \"it'd've\": \"it would have\", \"it'll\": \"it will\", \"it'll've\": \"it will have\",\"it's\": \"it is\", \"let's\": \"let us\", \"ma'am\": \"madam\", \"mayn't\": \"may not\", \"might've\": \"might have\",\"mightn't\": \"might not\",\"mightn't've\": \"might not have\", \"must've\": \"must have\", \"mustn't\": \"must not\", \"mustn't've\": \"must not have\", \"needn't\": \"need not\", \"needn't've\": \"need not have\",\"o'clock\": \"of the clock\", \"oughtn't\": \"ought not\", \"oughtn't've\": \"ought not have\", \"shan't\": \"shall not\", \"sha'n't\": \"shall not\", \"shan't've\": \"shall not have\", \"she'd\": \"she would\", \"she'd've\": \"she would have\", \"she'll\": \"she will\", \"she'll've\": \"she will have\", \"she's\": \"she is\", \"should've\": \"should have\", \"shouldn't\": \"should not\", \"shouldn't've\": \"should not have\", \"so've\": \"so have\",\"so's\": \"so as\", \"this's\": \"this is\",\"that'd\": \"that would\", \"that'd've\": \"that would have\", \"that's\": \"that is\", \"there'd\": \"there would\", \"there'd've\": \"there would have\", \"there's\": \"there is\", \"here's\": \"here is\",\"they'd\": \"they would\", \"they'd've\": \"they would have\", \"'they're\":\"they are\",\"they'll\": \"they will\", \"they'll've\": \"they will have\", \"they're\": \"they are\", \"they've\": \"they have\", \"to've\": \"to have\", \"wasn't\": \"was not\", \"we'd\": \"we would\", \"we'd've\": \"we would have\", \"we'll\": \"we will\", \"we'll've\": \"we will have\", \"we're\": \"we are\", \"we've\": \"we have\", \"weren't\": \"were not\", \"what'll\": \"what will\", \"what'll've\": \"what will have\", \"what're\": \"what are\",  \"what's\": \"what is\", \"what've\": \"what have\", \"when's\": \"when is\", \"when've\": \"when have\", \"where'd\": \"where did\", \"where's\": \"where is\", \"where've\": \"where have\", \"who'll\": \"who will\", \"who'll've\": \"who will have\", \"who's\": \"who is\", \"who've\": \"who have\", \"why's\": \"why is\", \"why've\": \"why have\", \"will've\": \"will have\", \"won't\": \"will not\", \"won't've\": \"will not have\", \"would've\": \"would have\", \"wouldn't\": \"would not\", \"wouldn't've\": \"would not have\", \"y'all\": \"you all\", \"y'all'd\": \"you all would\",\"y'all'd've\": \"you all would have\",\"y'all're\": \"you all are\",\"y'all've\": \"you all have\",\"you'd\": \"you would\", \"you'd've\": \"you would have\", \"you'll\": \"you will\", \"you'll've\": \"you will have\", \"you're\": \"you are\", \"you've\": \"you have\" }\n",
        "contractions = set(contraction_mapping)\n",
        "\n",
        "def pre_processing(sentence):\n",
        "    \n",
        "    out = sentence.replace('\\n', ' ').replace('\\t', ' ').replace('\\xa0',' ')\\\n",
        "    .replace(\"？\", \"?\").replace(\"…\", \" \").replace(\"é\", \"e\")\n",
        "    \n",
        "    for punct in \"./-'‘_“”#\":\n",
        "        out = out.replace(punct, ' ')\n",
        "    for punct in '&':\n",
        "        out = out.replace(punct, f'{punct} ')\n",
        "    out = out.translate(str.maketrans('', '', string.punctuation))\n",
        "    #out = out.translate(str.maketrans('', '', string.digits))\n",
        "    out = out.lower()\n",
        "\n",
        "    new_sentence = []\n",
        "    for word in out:\n",
        "        if word =='—':\n",
        "            word=\" \"\n",
        "        new_sentence.append(word)\n",
        "    return \"\".join(new_sentence)\n",
        "\n",
        "#Removing the left right and in between empty spaces.\n",
        "def left_right_spaces(sentence):\n",
        "    new_sentence = []\n",
        "    for word in sentence.split(' '):\n",
        "        if word!='':\n",
        "            new_sentence.append(word)\n",
        "    return \" \".join(new_sentence)\n",
        "            \n",
        "#These words are decided after exploring dataset\n",
        "stop_words = [\"the\",\"a\",\"is\",\"to\",\"be\",\"are\",\"what\",\"and\",\"of\",\"in\",\"it\",\"on\",\"for\",\"that\",\"with\",\"has\",\n",
        "              \"as\",\"will\",\"from\",\"by\",\"have\",\"an\",\"at\",\"this\",\"been\",\"their\",\"there\",\"or\",\"also\",\"not\",\"i\",\n",
        "              \"which\",\"his\",\"but\",\"had\",\"was\",\"said\"]\n",
        "\n",
        "def own_stop_words(sentence, stop_words = stop_words):\n",
        "    new_sentence = []\n",
        "    for word in sentence.split(' '):\n",
        "        if word not in stop_words:\n",
        "            new_sentence.append(word)\n",
        "    return \" \".join(new_sentence)\n",
        "\n",
        "#Contractions like \"aren't\" are replaced with \"are not\"\n",
        "def known_contractions(sentence):\n",
        "    sentence = sentence.replace(\"’\", \"'\").replace(\"`\", \"'\").replace(\"´\", \"'\")\n",
        "    new_sentence = []\n",
        "    for word in sentence.split(' '):\n",
        "        if word in contractions:\n",
        "            new_sentence.append(contraction_mapping[word])\n",
        "        else:\n",
        "            new_sentence.append(word)\n",
        "    return \" \".join(new_sentence)\n",
        "\n",
        "#Words like india's economy, america's economy are replaced with just india economy, america economy etc. \n",
        "def smart_words(sentence):\n",
        "    new_sentence = []\n",
        "    for word in sentence.split(' '):\n",
        "        if word==\"'s\":\n",
        "            word=\"\"\n",
        "        new_sentence.append(re.sub('[\\w]+\\s*[\\’\\´\\'\\”\\’\\\"\\”]\\s*[s]',word[:-2], word))            \n",
        "    return \" \".join(new_sentence)\n",
        "\n",
        "#Some common country names are replaced with a common word to reduce vocabulary.\n",
        "america_names = [\"USA\",\"U.S\",\"U.S.A\",\"U.S.\",\"usa\",\"US\",\"U.S,\",\"U.S.A,\",\"U.S.\",\"usa,\",\"US,\",\"US?\",\"U.S?\",\"U.S.A?\",\"U.S.?\",\"usa?\",\"U.S.A?\"]\n",
        "uk = [\"U.K\",\"U.K?\",\"U.K,\",\"U.K.\"]\n",
        "america_names = set(america_names)\n",
        "uk = set(uk)\n",
        "def countries(sentence):\n",
        "    new_sentence = []\n",
        "    for word in sentence.split(' '):\n",
        "        if word in america_names:\n",
        "            new_sentence.append('america')\n",
        "        elif word in uk:\n",
        "            new_sentence.append('united kingdom')\n",
        "        else:\n",
        "            new_sentence.append(word)\n",
        "    return \" \".join(new_sentence)\n",
        "\n",
        "\n",
        "#Symbols are replaced with the textual information to retain important information.\n",
        "def replace_symbols(sentence):\n",
        "    sentence = sentence.replace(\"%\", \" percent \").replace(\"₹\", \" rupee \").replace(\"$\", \" dollar \")\\\n",
        "    .replace(\"€\", \" euro \").replace(\"?\",'').replace(\"INR\",\" rupee \").replace(\"Rs.\",\" rupee \").replace(\"Rs\",\" rupee \")\n",
        "    \n",
        "    return sentence\n",
        "\n",
        "#Numbers like 100k is replaced with 100 thousand, 21yrs is replaced with 21 years, 1990's with 1990 and so on.\n",
        "def preprocessing_numbers(row):\n",
        "    row = re.sub('(?<=[0-9])\\,(?=[0-9])', \"\", row) #removing ,(comma) between the numbers\n",
        "    new_sentence = []\n",
        "    for word in row.split(' '):\n",
        "        match = re.match(r\"(^[0-9]+)(\\'*\\’*k{1}$)\", word)\n",
        "        if match:\n",
        "            items = match.groups()\n",
        "            new_sentence.append(items[0])\n",
        "            new_sentence.append('thousand')\n",
        "        else:\n",
        "            new_sentence.append(word)\n",
        "            \n",
        "    sentence = \" \".join(new_sentence)\n",
        "    new_sentence = []\n",
        "    for word in sentence.split(' '):\n",
        "        match = re.match(r\"(^[0-9]+)(\\'*\\’*y{1}r?s?$)\", word)\n",
        "        if match:\n",
        "            items = match.groups()\n",
        "            new_sentence.append(items[0])\n",
        "            new_sentence.append('year')\n",
        "        else:\n",
        "            new_sentence.append(word)\n",
        "\n",
        "    sentence = \" \".join(new_sentence)\n",
        "    new_sentence = []\n",
        "    for word in sentence.split(' '):\n",
        "        match = re.match(r\"(^[0-9]+)(\\'*\\’*s{1}$)\", word)\n",
        "        if match:\n",
        "            items = match.groups()\n",
        "            new_sentence.append(items[0])\n",
        "        else:\n",
        "            new_sentence.append(word)\n",
        "\n",
        "    sentence = \" \".join(new_sentence)\n",
        "    new_sentence = []\n",
        "    for word in sentence.split(' '):\n",
        "        match = re.match(r\"([0-9]+)([a-zA-Z]+)\", word)\n",
        "        if match:\n",
        "            items = match.groups()\n",
        "            new_sentence.append(items[0])\n",
        "            new_sentence.append(items[1])\n",
        "        else:\n",
        "            new_sentence.append(word)\n",
        "    return \" \".join(new_sentence)\n",
        "\n",
        "#Numbers are replaced with textual information to retain the value of sentence.\n",
        "def num_to_text(sentence):\n",
        "    sentence = sentence.replace(\"%\", \" percent \").replace(\"₹\", \" rupee \").replace(\"$\", \" dollar \")\\\n",
        "    .replace(\"€\", \" euro\").replace(\"?\",'').replace(\"INR\",\" rupee \").replace(\"Rs.\",\" rupee \")\n",
        "    new_sentence = []\n",
        "    for word in sentence.split(' '):\n",
        "        try:\n",
        "            word = int(word)\n",
        "            if word<=1000 and word>=0:\n",
        "                text = num2words(word)\n",
        "                new_sentence.append(text)\n",
        "            else:\n",
        "                new_sentence.append(str(word))\n",
        "        except:\n",
        "            new_sentence.append(str(word))\n",
        "    return \" \".join(new_sentence)\n",
        "\n",
        "def handling_decimal_numbers(sentence):\n",
        "    new_sentence = []\n",
        "    for word in sentence.split(' '):\n",
        "        match = re.match(r\"([0-9]+)(\\.)([0-9]+)\", word)\n",
        "        if match:\n",
        "            items = match.groups()\n",
        "            #new_sentence.append(items[0])\n",
        "            #new_sentence.append('point')\n",
        "            #new_sentence.append(items[2])\n",
        "            new_sentence.append(\"\")\n",
        "        else:\n",
        "            new_sentence.append(word)\n",
        "    return \" \".join(new_sentence)"
      ],
      "execution_count": 0,
      "outputs": []
    },
    {
      "cell_type": "code",
      "metadata": {
        "id": "UbuTOv1ngG_a",
        "colab_type": "code",
        "colab": {}
      },
      "source": [
        "train['STORY'] = train['STORY'].apply(countries)\n",
        "train['STORY'] = train['STORY'].apply(countries)\n",
        "\n",
        "train['STORY'] = train['STORY'].apply(known_contractions)\n",
        "train['STORY'] = train['STORY'].apply(known_contractions)\n",
        "\n",
        "train['STORY'] = train['STORY'].apply(smart_words)\n",
        "train['STORY'] = train['STORY'].apply(smart_words)\n",
        "\n",
        "train['STORY'] = train['STORY'].apply(replace_symbols)\n",
        "train['STORY'] = train['STORY'].apply(replace_symbols)\n",
        "\n",
        "train['STORY'] = train['STORY'].apply(preprocessing_numbers)\n",
        "train['STORY'] = train['STORY'].apply(preprocessing_numbers)\n",
        "\n",
        "train['STORY'] = train['STORY'].apply(num_to_text)\n",
        "train['STORY'] = train['STORY'].apply(num_to_text)\n",
        "\n",
        "train['STORY'] = train['STORY'].apply(handling_decimal_numbers)\n",
        "train['STORY'] = train['STORY'].apply(handling_decimal_numbers)\n",
        "\n",
        "train['STORY'] = train['STORY'].apply(pre_processing)\n",
        "train['STORY'] = train['STORY'].apply(pre_processing)\n",
        "\n",
        "train['STORY'] = train['STORY'].apply(own_stop_words)\n",
        "train['STORY'] = train['STORY'].apply(own_stop_words)\n",
        "\n",
        "train['STORY'] = train['STORY'].apply(left_right_spaces)\n",
        "train['STORY'] = train['STORY'].apply(left_right_spaces)\n",
        "\n",
        "train['STORY'] = train['STORY'].apply(preprocessing_numbers)\n",
        "train['STORY'] = train['STORY'].apply(preprocessing_numbers)\n",
        "\n",
        "train['STORY'] = train['STORY'].apply(num_to_text)\n",
        "train['STORY'] = train['STORY'].apply(num_to_text)"
      ],
      "execution_count": 0,
      "outputs": []
    },
    {
      "cell_type": "code",
      "metadata": {
        "id": "K7XiKG1u0L7q",
        "colab_type": "code",
        "colab": {}
      },
      "source": [
        "words_1 = []\n",
        "for doc in train['STORY']:\n",
        "    for word in doc.split(' '):\n",
        "        if word!='':\n",
        "            words_1.append(word)\n",
        "\n",
        "words_1_count = Counter(words_1)\n",
        "\n",
        "total_words = words_1_count"
      ],
      "execution_count": 0,
      "outputs": []
    },
    {
      "cell_type": "code",
      "metadata": {
        "id": "C6WfHQNkyUVE",
        "colab_type": "code",
        "outputId": "b3c490bd-a030-46c7-e4e1-0af261fa808c",
        "colab": {
          "base_uri": "https://localhost:8080/",
          "height": 425
        }
      },
      "source": [
        "!wget http://nlp.stanford.edu/data/glove.840B.300d.zip\n",
        "\n",
        "!unzip glove*.zip\n",
        "\n",
        "!rm glove.840B.300d.zip\n",
        "\n",
        "total_words = set(total_words)\n",
        "print('Indexing word vectors.')\n",
        "\n",
        "embeddings_index = {}\n",
        "f = open('glove.840B.300d.txt', encoding='utf-8')\n",
        "\n",
        "for line in f:\n",
        "    values = line.split()\n",
        "    word = values[0]\n",
        "    if word in total_words:\n",
        "        coefs = np.asarray(values[-300:], dtype='float32')\n",
        "        embeddings_index[word] = coefs\n",
        "    if len(embeddings_index)==len(total_words):\n",
        "        print(\"done\")\n",
        "f.close()\n",
        "print('Found %s word vectors.' % len(embeddings_index))\n",
        "\n",
        "#!rm glove.840B.300d.txt\n",
        "#del total_words"
      ],
      "execution_count": 8,
      "outputs": [
        {
          "output_type": "stream",
          "text": [
            "--2019-08-01 05:26:24--  http://nlp.stanford.edu/data/glove.840B.300d.zip\n",
            "Resolving nlp.stanford.edu (nlp.stanford.edu)... 171.64.67.140\n",
            "Connecting to nlp.stanford.edu (nlp.stanford.edu)|171.64.67.140|:80... connected.\n",
            "HTTP request sent, awaiting response... 302 Found\n",
            "Location: https://nlp.stanford.edu/data/glove.840B.300d.zip [following]\n",
            "--2019-08-01 05:26:24--  https://nlp.stanford.edu/data/glove.840B.300d.zip\n",
            "Connecting to nlp.stanford.edu (nlp.stanford.edu)|171.64.67.140|:443... connected.\n",
            "HTTP request sent, awaiting response... 301 Moved Permanently\n",
            "Location: http://downloads.cs.stanford.edu/nlp/data/glove.840B.300d.zip [following]\n",
            "--2019-08-01 05:26:24--  http://downloads.cs.stanford.edu/nlp/data/glove.840B.300d.zip\n",
            "Resolving downloads.cs.stanford.edu (downloads.cs.stanford.edu)... 171.64.64.22\n",
            "Connecting to downloads.cs.stanford.edu (downloads.cs.stanford.edu)|171.64.64.22|:80... connected.\n",
            "HTTP request sent, awaiting response... 200 OK\n",
            "Length: 2176768927 (2.0G) [application/zip]\n",
            "Saving to: ‘glove.840B.300d.zip’\n",
            "\n",
            "glove.840B.300d.zip 100%[===================>]   2.03G  57.6MB/s    in 38s     \n",
            "\n",
            "2019-08-01 05:27:02 (54.5 MB/s) - ‘glove.840B.300d.zip’ saved [2176768927/2176768927]\n",
            "\n",
            "Archive:  glove.840B.300d.zip\n",
            "replace glove.840B.300d.txt? [y]es, [n]o, [A]ll, [N]one, [r]ename: no\n",
            "Indexing word vectors.\n",
            "Found 26957 word vectors.\n"
          ],
          "name": "stdout"
        }
      ]
    },
    {
      "cell_type": "code",
      "metadata": {
        "id": "_8Dx1_Byz9lR",
        "colab_type": "code",
        "outputId": "1d21f728-a83b-4c29-fb5b-8cdc0ea79a13",
        "colab": {
          "base_uri": "https://localhost:8080/",
          "height": 85
        }
      },
      "source": [
        "print(\"Total number of words (vocabulary size): \", len(total_words))\n",
        "print(\"Embeddings found for the words: \", len(embeddings_index))\n",
        "print(\"Percentage of words having embeddings: \", (len(embeddings_index)/len(total_words))*100)\n",
        "print(\"Percentage of words not having embeddings: \", 100 - (len(embeddings_index)/len(total_words))*100)"
      ],
      "execution_count": 9,
      "outputs": [
        {
          "output_type": "stream",
          "text": [
            "Total number of words (vocabulary size):  32640\n",
            "Embeddings found for the words:  26957\n",
            "Percentage of words having embeddings:  82.58884803921569\n",
            "Percentage of words not having embeddings:  17.41115196078431\n"
          ],
          "name": "stdout"
        }
      ]
    },
    {
      "cell_type": "code",
      "metadata": {
        "id": "gvDjiSRujIBH",
        "colab_type": "code",
        "outputId": "71adab61-c0ac-4a84-a3ee-9a54310a8cbe",
        "colab": {
          "base_uri": "https://localhost:8080/",
          "height": 563
        }
      },
      "source": [
        "values = []\n",
        "for row in train['STORY']:\n",
        "    values.append(len(row.split(' ')))\n",
        "values = np.array(values)\n",
        "\n",
        "sns.distplot(values, kde = False, bins = 70)"
      ],
      "execution_count": 10,
      "outputs": [
        {
          "output_type": "execute_result",
          "data": {
            "text/plain": [
              "<matplotlib.axes._subplots.AxesSubplot at 0x7f368b421940>"
            ]
          },
          "metadata": {
            "tags": []
          },
          "execution_count": 10
        },
        {
          "output_type": "display_data",
          "data": {
            "image/png": "[encoded data removed]",
            "text/plain": [
              "<Figure size 864x648 with 1 Axes>"
            ]
          },
          "metadata": {
            "tags": []
          }
        }
      ]
    },
    {
      "cell_type": "code",
      "metadata": {
        "id": "6mMDr56n0Vcx",
        "colab_type": "code",
        "colab": {}
      },
      "source": [
        "use_words = []\n",
        "for word in total_words:\n",
        "    if word not in embeddings_index:\n",
        "        use_words.append(word)"
      ],
      "execution_count": 0,
      "outputs": []
    },
    {
      "cell_type": "code",
      "metadata": {
        "id": "8Q76skVu2TgG",
        "colab_type": "code",
        "colab": {}
      },
      "source": [
        "train = train.sample(frac=1)\n",
        "target = train['SECTION']\n",
        "train.drop(['SECTION'], axis = 1, inplace = True)"
      ],
      "execution_count": 0,
      "outputs": []
    },
    {
      "cell_type": "code",
      "metadata": {
        "id": "ub_yB_3f868S",
        "colab_type": "code",
        "colab": {}
      },
      "source": [
        "X_train, X_val, y_train, y_val = train_test_split(train, target, stratify = target, test_size=0.2)"
      ],
      "execution_count": 0,
      "outputs": []
    },
    {
      "cell_type": "code",
      "metadata": {
        "id": "Nb3VcEIn9FVx",
        "colab_type": "code",
        "colab": {}
      },
      "source": [
        "def embeddings(sentence):\n",
        "    new_sentence = []\n",
        "    for word in sentence.split(' '):\n",
        "        if word in embeddings_index:\n",
        "            new_sentence.append(embeddings_index[word])\n",
        "        else:\n",
        "            new_sentence.append(np.zeros(EMBEDDING_DIM))\n",
        "    return new_sentence"
      ],
      "execution_count": 0,
      "outputs": []
    },
    {
      "cell_type": "code",
      "metadata": {
        "id": "8Wjf2g_49SDG",
        "colab_type": "code",
        "outputId": "58bc5781-a6d4-4cec-8a22-a93782f82696",
        "colab": {
          "base_uri": "https://localhost:8080/",
          "height": 629
        }
      },
      "source": [
        "sequence_1_input = Input(shape = (SEQUENCE_LENGTH, EMBEDDING_DIM))\n",
        "x1 = Bidirectional(CuDNNLSTM(256, return_sequences = True))(sequence_1_input)\n",
        "x1 = Dropout(0.4)(x1)\n",
        "x1 = Bidirectional(CuDNNLSTM(256))(x1)\n",
        "\n",
        "merged = BatchNormalization()(x1)\n",
        "merged = Dense(200, activation='relu')(merged)\n",
        "merged = Dropout(0.4)(merged)\n",
        "\n",
        "merged = BatchNormalization()(merged)\n",
        "merged = Dense(200, activation='relu')(merged)\n",
        "merged = Dropout(0.4)(merged)\n",
        "\n",
        "merged = BatchNormalization()(merged)\n",
        "merged = Dense(100, activation='relu')(merged)\n",
        "merged = Dropout(0.4)(merged)\n",
        "\n",
        "preds = Dense(4, activation='softmax')(merged)\n",
        "\n",
        "model = Model(inputs= sequence_1_input, outputs = preds)\n",
        "\n",
        "model.compile(loss='sparse_categorical_crossentropy', optimizer = 'adam', metrics=['accuracy'])\n",
        "model.summary()"
      ],
      "execution_count": 69,
      "outputs": [
        {
          "output_type": "stream",
          "text": [
            "Model: \"model_5\"\n",
            "_________________________________________________________________\n",
            "Layer (type)                 Output Shape              Param #   \n",
            "=================================================================\n",
            "input_6 (InputLayer)         [(None, 125, 300)]        0         \n",
            "_________________________________________________________________\n",
            "bidirectional_10 (Bidirectio (None, 125, 512)          1142784   \n",
            "_________________________________________________________________\n",
            "dropout_16 (Dropout)         (None, 125, 512)          0         \n",
            "_________________________________________________________________\n",
            "bidirectional_11 (Bidirectio (None, 512)               1576960   \n",
            "_________________________________________________________________\n",
            "batch_normalization_11 (Batc (None, 512)               2048      \n",
            "_________________________________________________________________\n",
            "dense_16 (Dense)             (None, 200)               102600    \n",
            "_________________________________________________________________\n",
            "dropout_17 (Dropout)         (None, 200)               0         \n",
            "_________________________________________________________________\n",
            "batch_normalization_12 (Batc (None, 200)               800       \n",
            "_________________________________________________________________\n",
            "dense_17 (Dense)             (None, 200)               40200     \n",
            "_________________________________________________________________\n",
            "dropout_18 (Dropout)         (None, 200)               0         \n",
            "_________________________________________________________________\n",
            "batch_normalization_13 (Batc (None, 200)               800       \n",
            "_________________________________________________________________\n",
            "dense_18 (Dense)             (None, 100)               20100     \n",
            "_________________________________________________________________\n",
            "dropout_19 (Dropout)         (None, 100)               0         \n",
            "_________________________________________________________________\n",
            "dense_19 (Dense)             (None, 4)                 404       \n",
            "=================================================================\n",
            "Total params: 2,886,696\n",
            "Trainable params: 2,884,872\n",
            "Non-trainable params: 1,824\n",
            "_________________________________________________________________\n"
          ],
          "name": "stdout"
        }
      ]
    },
    {
      "cell_type": "code",
      "metadata": {
        "id": "AUA2AQuF9x8A",
        "colab_type": "code",
        "outputId": "0dfa96fe-7339-47f8-eec9-75ba62f08570",
        "colab": {
          "base_uri": "https://localhost:8080/",
          "height": 1000
        }
      },
      "source": [
        "final_epochs = 50\n",
        "\n",
        "checkpoint = ModelCheckpoint('saved_model.hdf5', monitor='val_loss', verbose=1, save_weights_only=True, save_best_only=True, mode='min')\n",
        "callbacks_list = [checkpoint]\n",
        "\n",
        "\n",
        "data1 = X_train['STORY']\n",
        "data1 = data1.apply(embeddings)\n",
        "\n",
        "data1 = pad_sequences(data1, maxlen=SEQUENCE_LENGTH, padding = 'pre', dtype=\"float32\")\n",
        "\n",
        "val1 = X_val['STORY']\n",
        "val1 = val1.apply(embeddings)\n",
        "\n",
        "val1 = pad_sequences(val1, maxlen=SEQUENCE_LENGTH, padding = 'pre', dtype=\"float32\")\n",
        "\n",
        "labels_train = np.array(y_train)\n",
        "labels_val = np.array(y_val)\n",
        "\n",
        "trained = model.fit(data1, labels_train,\n",
        "            validation_data = (val1, labels_val), epochs = final_epochs,\n",
        "            batch_size = 1024, callbacks = callbacks_list)\n"
      ],
      "execution_count": 70,
      "outputs": [
        {
          "output_type": "stream",
          "text": [
            "Train on 6102 samples, validate on 1526 samples\n",
            "Epoch 1/50\n",
            "5120/6102 [========================>.....] - ETA: 0s - loss: 1.2454 - acc: 0.5119\n",
            "Epoch 00001: val_loss improved from inf to 1.07355, saving model to saved_model.hdf5\n",
            "6102/6102 [==============================] - 8s 1ms/sample - loss: 1.1454 - acc: 0.5557 - val_loss: 1.0735 - val_acc: 0.8375\n",
            "Epoch 2/50\n",
            "5120/6102 [========================>.....] - ETA: 0s - loss: 0.3688 - acc: 0.8848\n",
            "Epoch 00002: val_loss improved from 1.07355 to 0.36734, saving model to saved_model.hdf5\n",
            "6102/6102 [==============================] - 5s 858us/sample - loss: 0.3561 - acc: 0.8907 - val_loss: 0.3673 - val_acc: 0.9410\n",
            "Epoch 3/50\n",
            "5120/6102 [========================>.....] - ETA: 0s - loss: 0.2253 - acc: 0.9408\n",
            "Epoch 00003: val_loss improved from 0.36734 to 0.28886, saving model to saved_model.hdf5\n",
            "6102/6102 [==============================] - 5s 873us/sample - loss: 0.2284 - acc: 0.9412 - val_loss: 0.2889 - val_acc: 0.9207\n",
            "Epoch 4/50\n",
            "5120/6102 [========================>.....] - ETA: 0s - loss: 0.1932 - acc: 0.9475\n",
            "Epoch 00004: val_loss improved from 0.28886 to 0.19190, saving model to saved_model.hdf5\n",
            "6102/6102 [==============================] - 5s 880us/sample - loss: 0.1908 - acc: 0.9479 - val_loss: 0.1919 - val_acc: 0.9502\n",
            "Epoch 5/50\n",
            "5120/6102 [========================>.....] - ETA: 0s - loss: 0.1485 - acc: 0.9582\n",
            "Epoch 00005: val_loss improved from 0.19190 to 0.18225, saving model to saved_model.hdf5\n",
            "6102/6102 [==============================] - 5s 889us/sample - loss: 0.1469 - acc: 0.9587 - val_loss: 0.1823 - val_acc: 0.9489\n",
            "Epoch 6/50\n",
            "5120/6102 [========================>.....] - ETA: 0s - loss: 0.1541 - acc: 0.9566\n",
            "Epoch 00006: val_loss did not improve from 0.18225\n",
            "6102/6102 [==============================] - 5s 890us/sample - loss: 0.1484 - acc: 0.9582 - val_loss: 0.2007 - val_acc: 0.9463\n",
            "Epoch 7/50\n",
            "5120/6102 [========================>.....] - ETA: 0s - loss: 0.1339 - acc: 0.9619\n",
            "Epoch 00007: val_loss improved from 0.18225 to 0.15662, saving model to saved_model.hdf5\n",
            "6102/6102 [==============================] - 5s 888us/sample - loss: 0.1272 - acc: 0.9639 - val_loss: 0.1566 - val_acc: 0.9626\n",
            "Epoch 8/50\n",
            "5120/6102 [========================>.....] - ETA: 0s - loss: 0.1046 - acc: 0.9721\n",
            "Epoch 00008: val_loss improved from 0.15662 to 0.14167, saving model to saved_model.hdf5\n",
            "6102/6102 [==============================] - 5s 880us/sample - loss: 0.1031 - acc: 0.9718 - val_loss: 0.1417 - val_acc: 0.9620\n",
            "Epoch 9/50\n",
            "5120/6102 [========================>.....] - ETA: 0s - loss: 0.0889 - acc: 0.9758\n",
            "Epoch 00009: val_loss improved from 0.14167 to 0.13327, saving model to saved_model.hdf5\n",
            "6102/6102 [==============================] - 5s 878us/sample - loss: 0.0878 - acc: 0.9757 - val_loss: 0.1333 - val_acc: 0.9640\n",
            "Epoch 10/50\n",
            "5120/6102 [========================>.....] - ETA: 0s - loss: 0.0849 - acc: 0.9746\n",
            "Epoch 00010: val_loss improved from 0.13327 to 0.13058, saving model to saved_model.hdf5\n",
            "6102/6102 [==============================] - 5s 876us/sample - loss: 0.0873 - acc: 0.9739 - val_loss: 0.1306 - val_acc: 0.9626\n",
            "Epoch 11/50\n",
            "5120/6102 [========================>.....] - ETA: 0s - loss: 0.0793 - acc: 0.9762\n",
            "Epoch 00011: val_loss did not improve from 0.13058\n",
            "6102/6102 [==============================] - 5s 864us/sample - loss: 0.0745 - acc: 0.9764 - val_loss: 0.1498 - val_acc: 0.9535\n",
            "Epoch 12/50\n",
            "5120/6102 [========================>.....] - ETA: 0s - loss: 0.0713 - acc: 0.9811\n",
            "Epoch 00012: val_loss improved from 0.13058 to 0.12851, saving model to saved_model.hdf5\n",
            "6102/6102 [==============================] - 5s 866us/sample - loss: 0.0698 - acc: 0.9815 - val_loss: 0.1285 - val_acc: 0.9659\n",
            "Epoch 13/50\n",
            "5120/6102 [========================>.....] - ETA: 0s - loss: 0.0573 - acc: 0.9824\n",
            "Epoch 00013: val_loss improved from 0.12851 to 0.12023, saving model to saved_model.hdf5\n",
            "6102/6102 [==============================] - 5s 861us/sample - loss: 0.0564 - acc: 0.9830 - val_loss: 0.1202 - val_acc: 0.9633\n",
            "Epoch 14/50\n",
            "5120/6102 [========================>.....] - ETA: 0s - loss: 0.0499 - acc: 0.9863\n",
            "Epoch 00014: val_loss improved from 0.12023 to 0.11454, saving model to saved_model.hdf5\n",
            "6102/6102 [==============================] - 5s 860us/sample - loss: 0.0510 - acc: 0.9864 - val_loss: 0.1145 - val_acc: 0.9646\n",
            "Epoch 15/50\n",
            "5120/6102 [========================>.....] - ETA: 0s - loss: 0.0422 - acc: 0.9873\n",
            "Epoch 00015: val_loss did not improve from 0.11454\n",
            "6102/6102 [==============================] - 5s 851us/sample - loss: 0.0434 - acc: 0.9875 - val_loss: 0.1205 - val_acc: 0.9666\n",
            "Epoch 16/50\n",
            "5120/6102 [========================>.....] - ETA: 0s - loss: 0.0399 - acc: 0.9877\n",
            "Epoch 00016: val_loss did not improve from 0.11454\n",
            "6102/6102 [==============================] - 5s 853us/sample - loss: 0.0383 - acc: 0.9880 - val_loss: 0.1188 - val_acc: 0.9646\n",
            "Epoch 17/50\n",
            "5120/6102 [========================>.....] - ETA: 0s - loss: 0.0439 - acc: 0.9887\n",
            "Epoch 00017: val_loss improved from 0.11454 to 0.11335, saving model to saved_model.hdf5\n",
            "6102/6102 [==============================] - 5s 863us/sample - loss: 0.0463 - acc: 0.9877 - val_loss: 0.1134 - val_acc: 0.9653\n",
            "Epoch 18/50\n",
            "5120/6102 [========================>.....] - ETA: 0s - loss: 0.0460 - acc: 0.9873\n",
            "Epoch 00018: val_loss did not improve from 0.11335\n",
            "6102/6102 [==============================] - 5s 861us/sample - loss: 0.0438 - acc: 0.9875 - val_loss: 0.1378 - val_acc: 0.9594\n",
            "Epoch 19/50\n",
            "5120/6102 [========================>.....] - ETA: 0s - loss: 0.0435 - acc: 0.9850\n",
            "Epoch 00019: val_loss did not improve from 0.11335\n",
            "6102/6102 [==============================] - 5s 859us/sample - loss: 0.0464 - acc: 0.9839 - val_loss: 0.1307 - val_acc: 0.9620\n",
            "Epoch 20/50\n",
            "5120/6102 [========================>.....] - ETA: 0s - loss: 0.0611 - acc: 0.9809\n",
            "Epoch 00020: val_loss did not improve from 0.11335\n",
            "6102/6102 [==============================] - 5s 861us/sample - loss: 0.0575 - acc: 0.9818 - val_loss: 0.1521 - val_acc: 0.9528\n",
            "Epoch 21/50\n",
            "5120/6102 [========================>.....] - ETA: 0s - loss: 0.0509 - acc: 0.9834\n",
            "Epoch 00021: val_loss did not improve from 0.11335\n",
            "6102/6102 [==============================] - 5s 860us/sample - loss: 0.0536 - acc: 0.9831 - val_loss: 0.1257 - val_acc: 0.9620\n",
            "Epoch 22/50\n",
            "5120/6102 [========================>.....] - ETA: 0s - loss: 0.0321 - acc: 0.9895\n",
            "Epoch 00022: val_loss improved from 0.11335 to 0.10845, saving model to saved_model.hdf5\n",
            "6102/6102 [==============================] - 5s 869us/sample - loss: 0.0309 - acc: 0.9903 - val_loss: 0.1084 - val_acc: 0.9672\n",
            "Epoch 23/50\n",
            "5120/6102 [========================>.....] - ETA: 0s - loss: 0.0266 - acc: 0.9932\n",
            "Epoch 00023: val_loss did not improve from 0.10845\n",
            "6102/6102 [==============================] - 5s 863us/sample - loss: 0.0267 - acc: 0.9931 - val_loss: 0.1163 - val_acc: 0.9672\n",
            "Epoch 24/50\n",
            "5120/6102 [========================>.....] - ETA: 0s - loss: 0.0245 - acc: 0.9930\n",
            "Epoch 00024: val_loss did not improve from 0.10845\n",
            "6102/6102 [==============================] - 5s 868us/sample - loss: 0.0229 - acc: 0.9938 - val_loss: 0.1228 - val_acc: 0.9640\n",
            "Epoch 25/50\n",
            "5120/6102 [========================>.....] - ETA: 0s - loss: 0.0244 - acc: 0.9939\n",
            "Epoch 00025: val_loss improved from 0.10845 to 0.10781, saving model to saved_model.hdf5\n",
            "6102/6102 [==============================] - 5s 872us/sample - loss: 0.0225 - acc: 0.9943 - val_loss: 0.1078 - val_acc: 0.9705\n",
            "Epoch 26/50\n",
            "5120/6102 [========================>.....] - ETA: 0s - loss: 0.0187 - acc: 0.9951\n",
            "Epoch 00026: val_loss did not improve from 0.10781\n",
            "6102/6102 [==============================] - 5s 863us/sample - loss: 0.0178 - acc: 0.9954 - val_loss: 0.1187 - val_acc: 0.9666\n",
            "Epoch 27/50\n",
            "5120/6102 [========================>.....] - ETA: 0s - loss: 0.0179 - acc: 0.9949\n",
            "Epoch 00027: val_loss did not improve from 0.10781\n",
            "6102/6102 [==============================] - 5s 860us/sample - loss: 0.0175 - acc: 0.9948 - val_loss: 0.1300 - val_acc: 0.9672\n",
            "Epoch 28/50\n",
            "5120/6102 [========================>.....] - ETA: 0s - loss: 0.0171 - acc: 0.9949\n",
            "Epoch 00028: val_loss did not improve from 0.10781\n",
            "6102/6102 [==============================] - 5s 859us/sample - loss: 0.0161 - acc: 0.9952 - val_loss: 0.1350 - val_acc: 0.9666\n",
            "Epoch 29/50\n",
            "5120/6102 [========================>.....] - ETA: 0s - loss: 0.0156 - acc: 0.9951\n",
            "Epoch 00029: val_loss did not improve from 0.10781\n",
            "6102/6102 [==============================] - 5s 861us/sample - loss: 0.0156 - acc: 0.9951 - val_loss: 0.1331 - val_acc: 0.9672\n",
            "Epoch 30/50\n",
            "5120/6102 [========================>.....] - ETA: 0s - loss: 0.0117 - acc: 0.9965\n",
            "Epoch 00030: val_loss did not improve from 0.10781\n",
            "6102/6102 [==============================] - 5s 857us/sample - loss: 0.0107 - acc: 0.9969 - val_loss: 0.1456 - val_acc: 0.9640\n",
            "Epoch 31/50\n",
            "5120/6102 [========================>.....] - ETA: 0s - loss: 0.0129 - acc: 0.9959\n",
            "Epoch 00031: val_loss did not improve from 0.10781\n",
            "6102/6102 [==============================] - 5s 861us/sample - loss: 0.0132 - acc: 0.9962 - val_loss: 0.1475 - val_acc: 0.9620\n",
            "Epoch 32/50\n",
            "5120/6102 [========================>.....] - ETA: 0s - loss: 0.0186 - acc: 0.9941\n",
            "Epoch 00032: val_loss did not improve from 0.10781\n",
            "6102/6102 [==============================] - 5s 856us/sample - loss: 0.0185 - acc: 0.9941 - val_loss: 0.1403 - val_acc: 0.9672\n",
            "Epoch 33/50\n",
            "5120/6102 [========================>.....] - ETA: 0s - loss: 0.0185 - acc: 0.9955\n",
            "Epoch 00033: val_loss did not improve from 0.10781\n",
            "6102/6102 [==============================] - 5s 860us/sample - loss: 0.0175 - acc: 0.9954 - val_loss: 0.1406 - val_acc: 0.9699\n",
            "Epoch 34/50\n",
            "5120/6102 [========================>.....] - ETA: 0s - loss: 0.0170 - acc: 0.9951\n",
            "Epoch 00034: val_loss did not improve from 0.10781\n",
            "6102/6102 [==============================] - 5s 856us/sample - loss: 0.0152 - acc: 0.9956 - val_loss: 0.1744 - val_acc: 0.9567\n",
            "Epoch 35/50\n",
            "5120/6102 [========================>.....] - ETA: 0s - loss: 0.0405 - acc: 0.9887\n",
            "Epoch 00035: val_loss did not improve from 0.10781\n",
            "6102/6102 [==============================] - 5s 859us/sample - loss: 0.0383 - acc: 0.9895 - val_loss: 0.1558 - val_acc: 0.9633\n",
            "Epoch 36/50\n",
            "5120/6102 [========================>.....] - ETA: 0s - loss: 0.0230 - acc: 0.9926\n",
            "Epoch 00036: val_loss did not improve from 0.10781\n",
            "6102/6102 [==============================] - 5s 858us/sample - loss: 0.0241 - acc: 0.9920 - val_loss: 0.1446 - val_acc: 0.9659\n",
            "Epoch 37/50\n",
            "5120/6102 [========================>.....] - ETA: 0s - loss: 0.0164 - acc: 0.9941\n",
            "Epoch 00037: val_loss did not improve from 0.10781\n",
            "6102/6102 [==============================] - 5s 858us/sample - loss: 0.0174 - acc: 0.9936 - val_loss: 0.1424 - val_acc: 0.9640\n",
            "Epoch 38/50\n",
            "5120/6102 [========================>.....] - ETA: 0s - loss: 0.0150 - acc: 0.9963\n",
            "Epoch 00038: val_loss did not improve from 0.10781\n",
            "6102/6102 [==============================] - 5s 863us/sample - loss: 0.0141 - acc: 0.9964 - val_loss: 0.1652 - val_acc: 0.9646\n",
            "Epoch 39/50\n",
            "5120/6102 [========================>.....] - ETA: 0s - loss: 0.0136 - acc: 0.9965\n",
            "Epoch 00039: val_loss did not improve from 0.10781\n",
            "6102/6102 [==============================] - 5s 860us/sample - loss: 0.0131 - acc: 0.9964 - val_loss: 0.1459 - val_acc: 0.9679\n",
            "Epoch 40/50\n",
            "5120/6102 [========================>.....] - ETA: 0s - loss: 0.0088 - acc: 0.9973\n",
            "Epoch 00040: val_loss did not improve from 0.10781\n",
            "6102/6102 [==============================] - 5s 863us/sample - loss: 0.0093 - acc: 0.9972 - val_loss: 0.1404 - val_acc: 0.9685\n",
            "Epoch 41/50\n",
            "5120/6102 [========================>.....] - ETA: 0s - loss: 0.0105 - acc: 0.9963\n",
            "Epoch 00041: val_loss did not improve from 0.10781\n",
            "6102/6102 [==============================] - 5s 861us/sample - loss: 0.0096 - acc: 0.9966 - val_loss: 0.1541 - val_acc: 0.9685\n",
            "Epoch 42/50\n",
            "5120/6102 [========================>.....] - ETA: 0s - loss: 0.0091 - acc: 0.9973\n",
            "Epoch 00042: val_loss did not improve from 0.10781\n",
            "6102/6102 [==============================] - 5s 860us/sample - loss: 0.0086 - acc: 0.9974 - val_loss: 0.1522 - val_acc: 0.9666\n",
            "Epoch 43/50\n",
            "5120/6102 [========================>.....] - ETA: 0s - loss: 0.0133 - acc: 0.9955\n",
            "Epoch 00043: val_loss did not improve from 0.10781\n",
            "6102/6102 [==============================] - 5s 860us/sample - loss: 0.0127 - acc: 0.9954 - val_loss: 0.1564 - val_acc: 0.9685\n",
            "Epoch 44/50\n",
            "5120/6102 [========================>.....] - ETA: 0s - loss: 0.0113 - acc: 0.9965\n",
            "Epoch 00044: val_loss did not improve from 0.10781\n",
            "6102/6102 [==============================] - 5s 864us/sample - loss: 0.0106 - acc: 0.9966 - val_loss: 0.1563 - val_acc: 0.9699\n",
            "Epoch 45/50\n",
            "5120/6102 [========================>.....] - ETA: 0s - loss: 0.0085 - acc: 0.9969\n",
            "Epoch 00045: val_loss did not improve from 0.10781\n",
            "6102/6102 [==============================] - 5s 861us/sample - loss: 0.0083 - acc: 0.9972 - val_loss: 0.1568 - val_acc: 0.9712\n",
            "Epoch 46/50\n",
            "5120/6102 [========================>.....] - ETA: 0s - loss: 0.0069 - acc: 0.9982\n",
            "Epoch 00046: val_loss did not improve from 0.10781\n",
            "6102/6102 [==============================] - 5s 862us/sample - loss: 0.0074 - acc: 0.9980 - val_loss: 0.1571 - val_acc: 0.9699\n",
            "Epoch 47/50\n",
            "5120/6102 [========================>.....] - ETA: 0s - loss: 0.0057 - acc: 0.9980\n",
            "Epoch 00047: val_loss did not improve from 0.10781\n",
            "6102/6102 [==============================] - 5s 864us/sample - loss: 0.0056 - acc: 0.9979 - val_loss: 0.1802 - val_acc: 0.9672\n",
            "Epoch 48/50\n",
            "5120/6102 [========================>.....] - ETA: 0s - loss: 0.0056 - acc: 0.9977\n",
            "Epoch 00048: val_loss did not improve from 0.10781\n",
            "6102/6102 [==============================] - 5s 866us/sample - loss: 0.0060 - acc: 0.9975 - val_loss: 0.1888 - val_acc: 0.9672\n",
            "Epoch 49/50\n",
            "5120/6102 [========================>.....] - ETA: 0s - loss: 0.0067 - acc: 0.9975\n",
            "Epoch 00049: val_loss did not improve from 0.10781\n",
            "6102/6102 [==============================] - 5s 861us/sample - loss: 0.0065 - acc: 0.9974 - val_loss: 0.1857 - val_acc: 0.9672\n",
            "Epoch 50/50\n",
            "5120/6102 [========================>.....] - ETA: 0s - loss: 0.0065 - acc: 0.9971\n",
            "Epoch 00050: val_loss did not improve from 0.10781\n",
            "6102/6102 [==============================] - 5s 859us/sample - loss: 0.0066 - acc: 0.9969 - val_loss: 0.1836 - val_acc: 0.9712\n"
          ],
          "name": "stdout"
        }
      ]
    },
    {
      "cell_type": "code",
      "metadata": {
        "id": "O1Gc0cB3vo7f",
        "colab_type": "code",
        "outputId": "e324a003-131f-4046-b245-017d13df59da",
        "colab": {
          "base_uri": "https://localhost:8080/",
          "height": 1000
        }
      },
      "source": [
        "plot.plot(trained.history['acc'])\n",
        "plot.plot(trained.history['val_acc'])\n",
        "plot.title('Model accuracy')\n",
        "plot.ylabel('Accuracy')\n",
        "plot.xlabel('Epoch')\n",
        "plot.legend(['Train', 'Test'], loc='upper left')\n",
        "plot.show()\n",
        "\n",
        "plot.plot(trained.history['loss'])\n",
        "plot.plot(trained.history['val_loss'])\n",
        "plot.title('Model loss')\n",
        "plot.ylabel('Loss')\n",
        "plot.xlabel('Epoch')\n",
        "plot.legend(['Train', 'Test'], loc='upper left')\n",
        "plot.show()"
      ],
      "execution_count": 71,
      "outputs": [
        {
          "output_type": "display_data",
          "data": {
            "image/png": "[encoded data removed]",
            "text/plain": [
              "<Figure size 864x648 with 1 Axes>"
            ]
          },
          "metadata": {
            "tags": []
          }
        },
        {
          "output_type": "display_data",
          "data": {
            "image/png": "[encoded data removed]",
            "text/plain": [
              "<Figure size 864x648 with 1 Axes>"
            ]
          },
          "metadata": {
            "tags": []
          }
        }
      ]
    },
    {
      "cell_type": "code",
      "metadata": {
        "id": "KtuDsyQE-xsf",
        "colab_type": "code",
        "colab": {}
      },
      "source": [
        "try:\n",
        "    del data1\n",
        "    del val1\n",
        "    del X_val\n",
        "    del y_val\n",
        "    del X_train\n",
        "    del y_train\n",
        "    #del model\n",
        "    import gc\n",
        "    gc.collect()\n",
        "except:\n",
        "    pass"
      ],
      "execution_count": 0,
      "outputs": []
    },
    {
      "cell_type": "code",
      "metadata": {
        "id": "zunH9e8ylB7k",
        "colab_type": "code",
        "colab": {}
      },
      "source": [
        "test = pd.read_excel('Data_Test.xlsx')"
      ],
      "execution_count": 0,
      "outputs": []
    },
    {
      "cell_type": "code",
      "metadata": {
        "id": "q_nGHQhDquQU",
        "colab_type": "code",
        "colab": {}
      },
      "source": [
        "test['STORY'] = test['STORY'].apply(countries)\n",
        "test['STORY'] = test['STORY'].apply(countries)\n",
        "\n",
        "test['STORY'] = test['STORY'].apply(known_contractions)\n",
        "test['STORY'] = test['STORY'].apply(known_contractions)\n",
        "\n",
        "test['STORY'] = test['STORY'].apply(smart_words)\n",
        "test['STORY'] = test['STORY'].apply(smart_words)\n",
        "\n",
        "test['STORY'] = test['STORY'].apply(replace_symbols)\n",
        "test['STORY'] = test['STORY'].apply(replace_symbols)\n",
        "\n",
        "test['STORY'] = test['STORY'].apply(preprocessing_numbers)\n",
        "test['STORY'] = test['STORY'].apply(preprocessing_numbers)\n",
        "\n",
        "test['STORY'] = test['STORY'].apply(num_to_text)\n",
        "test['STORY'] = test['STORY'].apply(num_to_text)\n",
        "\n",
        "test['STORY'] = test['STORY'].apply(handling_decimal_numbers)\n",
        "test['STORY'] = test['STORY'].apply(handling_decimal_numbers)\n",
        "\n",
        "test['STORY'] = test['STORY'].apply(pre_processing)\n",
        "test['STORY'] = test['STORY'].apply(pre_processing)\n",
        "\n",
        "test['STORY'] = test['STORY'].apply(own_stop_words)\n",
        "test['STORY'] = test['STORY'].apply(own_stop_words)\n",
        "\n",
        "test['STORY'] = test['STORY'].apply(left_right_spaces)\n",
        "test['STORY'] = test['STORY'].apply(left_right_spaces)\n",
        "\n",
        "test['STORY'] = test['STORY'].apply(preprocessing_numbers)\n",
        "test['STORY'] = test['STORY'].apply(preprocessing_numbers)\n",
        "\n",
        "test['STORY'] = test['STORY'].apply(num_to_text)\n",
        "test['STORY'] = test['STORY'].apply(num_to_text)"
      ],
      "execution_count": 0,
      "outputs": []
    },
    {
      "cell_type": "code",
      "metadata": {
        "id": "UPJ7NO4Rqvbg",
        "colab_type": "code",
        "colab": {}
      },
      "source": [
        "new = test['STORY']\n",
        "new = new.apply(embeddings)\n",
        "\n",
        "new = pad_sequences(new, maxlen=SEQUENCE_LENGTH, padding = 'pre', dtype=\"float32\")"
      ],
      "execution_count": 0,
      "outputs": []
    },
    {
      "cell_type": "code",
      "metadata": {
        "id": "1F72WSWmsdbD",
        "colab_type": "code",
        "colab": {
          "base_uri": "https://localhost:8080/",
          "height": 238
        },
        "outputId": "796fffc6-27e5-487c-d330-8f99d649ef8a"
      },
      "source": [
        "new[:1]"
      ],
      "execution_count": 86,
      "outputs": [
        {
          "output_type": "execute_result",
          "data": {
            "text/plain": [
              "array([[[-0.35616  , -0.39059  ,  0.55447  , ..., -0.13571  ,\n",
              "          0.013178 ,  0.26619  ],\n",
              "        [-0.11697  ,  0.058529 , -0.050612 , ...,  0.24277  ,\n",
              "         -0.17975  , -0.18293  ],\n",
              "        [ 0.16082  ,  0.11008  , -0.28129  , ...,  0.12435  ,\n",
              "         -0.27433  ,  0.65513  ],\n",
              "        ...,\n",
              "        [-0.091755 ,  0.23209  ,  0.12956  , ...,  0.39148  ,\n",
              "         -0.065411 ,  0.12674  ],\n",
              "        [ 0.49149  ,  0.19064  ,  0.44208  , ...,  0.22995  ,\n",
              "          0.10845  ,  0.11183  ],\n",
              "        [-0.044382 ,  0.17593  ,  0.0022034, ..., -0.30295  ,\n",
              "          0.01211  ,  0.15438  ]]], dtype=float32)"
            ]
          },
          "metadata": {
            "tags": []
          },
          "execution_count": 86
        }
      ]
    },
    {
      "cell_type": "code",
      "metadata": {
        "id": "5stS0EsYswdr",
        "colab_type": "code",
        "colab": {}
      },
      "source": [
        "predictions_array = model.predict(new)"
      ],
      "execution_count": 0,
      "outputs": []
    },
    {
      "cell_type": "code",
      "metadata": {
        "id": "4OA8U6Omszs7",
        "colab_type": "code",
        "colab": {}
      },
      "source": [
        "predictions = []\n",
        "for pred in predictions_array:\n",
        "    predictions.append(np.argmax(pred))\n"
      ],
      "execution_count": 0,
      "outputs": []
    },
    {
      "cell_type": "code",
      "metadata": {
        "id": "b-qR-Mo5s6si",
        "colab_type": "code",
        "colab": {}
      },
      "source": [
        "predictions = np.array(predictions)"
      ],
      "execution_count": 0,
      "outputs": []
    },
    {
      "cell_type": "code",
      "metadata": {
        "id": "4mp-hbMbtizh",
        "colab_type": "code",
        "colab": {}
      },
      "source": [
        "submission = pd.DataFrame(columns = ['SECTION'])"
      ],
      "execution_count": 0,
      "outputs": []
    },
    {
      "cell_type": "code",
      "metadata": {
        "id": "vrrdQ8ggt1bh",
        "colab_type": "code",
        "colab": {}
      },
      "source": [
        "submission['SECTION'] = predictions"
      ],
      "execution_count": 0,
      "outputs": []
    },
    {
      "cell_type": "code",
      "metadata": {
        "id": "Bvspc_xzt9fp",
        "colab_type": "code",
        "colab": {}
      },
      "source": [
        "submission.to_excel('submisson_1.xlsx', index=False)"
      ],
      "execution_count": 0,
      "outputs": []
    },
    {
      "cell_type": "code",
      "metadata": {
        "id": "oSTH36jBuAoR",
        "colab_type": "code",
        "colab": {}
      },
      "source": [
        "submission = pd.read_excel('submisson_1.xlsx')\n",
        "submission"
      ],
      "execution_count": 0,
      "outputs": []
    },
    {
      "cell_type": "code",
      "metadata": {
        "id": "b_t7UxzbxHU7",
        "colab_type": "code",
        "colab": {}
      },
      "source": [
        ""
      ],
      "execution_count": 0,
      "outputs": []
    }
  ]
}